{
 "cells": [
  {
   "cell_type": "markdown",
   "metadata": {},
   "source": [
    "# Определение стоимости автомобилей"
   ]
  },
  {
   "cell_type": "markdown",
   "metadata": {},
   "source": [
    "Сервис по продаже автомобилей с пробегом разрабатывает приложение для привлечения новых клиентов. В нём можно быстро узнать рыночную стоимость своего автомобиля. В нашем распоряжении исторические данные: технические характеристики, комплектации и цены автомобилей. Нам нужно построить модель для определения стоимости. \n",
    "\n",
    "Заказчику важны:\n",
    "\n",
    "- качество предсказания;\n",
    "- скорость предсказания;\n",
    "- время обучения."
   ]
  },
  {
   "cell_type": "markdown",
   "metadata": {},
   "source": [
    "**Признаки:**\n",
    "- `DateCrawled` — дата скачивания анкеты из базы\n",
    "- `VehicleType` — тип автомобильного кузова\n",
    "- `RegistrationYear` — год регистрации автомобиля\n",
    "- `Gearbox` — тип коробки передач\n",
    "- `Power` — мощность (л. с.)\n",
    "- `Model` — модель автомобиля\n",
    "- `Kilometer` — пробег (км)\n",
    "- `RegistrationMonth` — месяц регистрации автомобиля\n",
    "- `FuelType` — тип топлива\n",
    "- `Brand` — марка автомобиля\n",
    "- `Repaired` — была машина в ремонте или нет\n",
    "- `DateCreated` — дата создания анкеты\n",
    "- `NumberOfPictures` — количество фотографий автомобиля\n",
    "- `PostalCode` — почтовый индекс владельца анкеты (пользователя)\n",
    "- `LastSeen` — дата последней активности пользователя\n",
    "\n",
    "\n",
    "**Целевой признак:**\n",
    "- `Price` — цена (евро)"
   ]
  },
  {
   "cell_type": "markdown",
   "metadata": {},
   "source": [
    "**Импорт необходимых библиотек:**"
   ]
  },
  {
   "cell_type": "code",
   "execution_count": 1,
   "metadata": {},
   "outputs": [],
   "source": [
    "import pandas as pd\n",
    "import numpy as np\n",
    "import matplotlib.pyplot as plt\n",
    "import seaborn as sns\n",
    "from sklearn.model_selection import train_test_split\n",
    "from sklearn.ensemble import RandomForestRegressor\n",
    "from lightgbm import LGBMRegressor\n",
    "from sklearn.dummy import DummyRegressor\n",
    "from sklearn.metrics import mean_squared_error\n",
    "from sklearn.model_selection import GridSearchCV, cross_val_score\n",
    "from sklearn.model_selection import cross_val_predict\n",
    "from sklearn.metrics import make_scorer\n",
    "from sklearn.preprocessing import OneHotEncoder\n",
    "from sklearn.preprocessing import LabelEncoder\n",
    "from sklearn.preprocessing import OrdinalEncoder\n",
    "from sklearn.model_selection import RandomizedSearchCV\n",
    "import time"
   ]
  },
  {
   "cell_type": "markdown",
   "metadata": {},
   "source": [
    "## Подготовка данных"
   ]
  },
  {
   "cell_type": "code",
   "execution_count": 2,
   "metadata": {},
   "outputs": [],
   "source": [
    "data = pd.read_csv('/datasets/autos.csv')"
   ]
  },
  {
   "cell_type": "code",
   "execution_count": 3,
   "metadata": {},
   "outputs": [
    {
     "data": {
      "text/html": [
       "<div>\n",
       "<style scoped>\n",
       "    .dataframe tbody tr th:only-of-type {\n",
       "        vertical-align: middle;\n",
       "    }\n",
       "\n",
       "    .dataframe tbody tr th {\n",
       "        vertical-align: top;\n",
       "    }\n",
       "\n",
       "    .dataframe thead th {\n",
       "        text-align: right;\n",
       "    }\n",
       "</style>\n",
       "<table border=\"1\" class=\"dataframe\">\n",
       "  <thead>\n",
       "    <tr style=\"text-align: right;\">\n",
       "      <th></th>\n",
       "      <th>DateCrawled</th>\n",
       "      <th>Price</th>\n",
       "      <th>VehicleType</th>\n",
       "      <th>RegistrationYear</th>\n",
       "      <th>Gearbox</th>\n",
       "      <th>Power</th>\n",
       "      <th>Model</th>\n",
       "      <th>Kilometer</th>\n",
       "      <th>RegistrationMonth</th>\n",
       "      <th>FuelType</th>\n",
       "      <th>Brand</th>\n",
       "      <th>Repaired</th>\n",
       "      <th>DateCreated</th>\n",
       "      <th>NumberOfPictures</th>\n",
       "      <th>PostalCode</th>\n",
       "      <th>LastSeen</th>\n",
       "    </tr>\n",
       "  </thead>\n",
       "  <tbody>\n",
       "    <tr>\n",
       "      <th>0</th>\n",
       "      <td>2016-03-24 11:52:17</td>\n",
       "      <td>480</td>\n",
       "      <td>NaN</td>\n",
       "      <td>1993</td>\n",
       "      <td>manual</td>\n",
       "      <td>0</td>\n",
       "      <td>golf</td>\n",
       "      <td>150000</td>\n",
       "      <td>0</td>\n",
       "      <td>petrol</td>\n",
       "      <td>volkswagen</td>\n",
       "      <td>NaN</td>\n",
       "      <td>2016-03-24 00:00:00</td>\n",
       "      <td>0</td>\n",
       "      <td>70435</td>\n",
       "      <td>2016-04-07 03:16:57</td>\n",
       "    </tr>\n",
       "    <tr>\n",
       "      <th>1</th>\n",
       "      <td>2016-03-24 10:58:45</td>\n",
       "      <td>18300</td>\n",
       "      <td>coupe</td>\n",
       "      <td>2011</td>\n",
       "      <td>manual</td>\n",
       "      <td>190</td>\n",
       "      <td>NaN</td>\n",
       "      <td>125000</td>\n",
       "      <td>5</td>\n",
       "      <td>gasoline</td>\n",
       "      <td>audi</td>\n",
       "      <td>yes</td>\n",
       "      <td>2016-03-24 00:00:00</td>\n",
       "      <td>0</td>\n",
       "      <td>66954</td>\n",
       "      <td>2016-04-07 01:46:50</td>\n",
       "    </tr>\n",
       "    <tr>\n",
       "      <th>2</th>\n",
       "      <td>2016-03-14 12:52:21</td>\n",
       "      <td>9800</td>\n",
       "      <td>suv</td>\n",
       "      <td>2004</td>\n",
       "      <td>auto</td>\n",
       "      <td>163</td>\n",
       "      <td>grand</td>\n",
       "      <td>125000</td>\n",
       "      <td>8</td>\n",
       "      <td>gasoline</td>\n",
       "      <td>jeep</td>\n",
       "      <td>NaN</td>\n",
       "      <td>2016-03-14 00:00:00</td>\n",
       "      <td>0</td>\n",
       "      <td>90480</td>\n",
       "      <td>2016-04-05 12:47:46</td>\n",
       "    </tr>\n",
       "    <tr>\n",
       "      <th>3</th>\n",
       "      <td>2016-03-17 16:54:04</td>\n",
       "      <td>1500</td>\n",
       "      <td>small</td>\n",
       "      <td>2001</td>\n",
       "      <td>manual</td>\n",
       "      <td>75</td>\n",
       "      <td>golf</td>\n",
       "      <td>150000</td>\n",
       "      <td>6</td>\n",
       "      <td>petrol</td>\n",
       "      <td>volkswagen</td>\n",
       "      <td>no</td>\n",
       "      <td>2016-03-17 00:00:00</td>\n",
       "      <td>0</td>\n",
       "      <td>91074</td>\n",
       "      <td>2016-03-17 17:40:17</td>\n",
       "    </tr>\n",
       "    <tr>\n",
       "      <th>4</th>\n",
       "      <td>2016-03-31 17:25:20</td>\n",
       "      <td>3600</td>\n",
       "      <td>small</td>\n",
       "      <td>2008</td>\n",
       "      <td>manual</td>\n",
       "      <td>69</td>\n",
       "      <td>fabia</td>\n",
       "      <td>90000</td>\n",
       "      <td>7</td>\n",
       "      <td>gasoline</td>\n",
       "      <td>skoda</td>\n",
       "      <td>no</td>\n",
       "      <td>2016-03-31 00:00:00</td>\n",
       "      <td>0</td>\n",
       "      <td>60437</td>\n",
       "      <td>2016-04-06 10:17:21</td>\n",
       "    </tr>\n",
       "  </tbody>\n",
       "</table>\n",
       "</div>"
      ],
      "text/plain": [
       "           DateCrawled  Price VehicleType  RegistrationYear Gearbox  Power  \\\n",
       "0  2016-03-24 11:52:17    480         NaN              1993  manual      0   \n",
       "1  2016-03-24 10:58:45  18300       coupe              2011  manual    190   \n",
       "2  2016-03-14 12:52:21   9800         suv              2004    auto    163   \n",
       "3  2016-03-17 16:54:04   1500       small              2001  manual     75   \n",
       "4  2016-03-31 17:25:20   3600       small              2008  manual     69   \n",
       "\n",
       "   Model  Kilometer  RegistrationMonth  FuelType       Brand Repaired  \\\n",
       "0   golf     150000                  0    petrol  volkswagen      NaN   \n",
       "1    NaN     125000                  5  gasoline        audi      yes   \n",
       "2  grand     125000                  8  gasoline        jeep      NaN   \n",
       "3   golf     150000                  6    petrol  volkswagen       no   \n",
       "4  fabia      90000                  7  gasoline       skoda       no   \n",
       "\n",
       "           DateCreated  NumberOfPictures  PostalCode             LastSeen  \n",
       "0  2016-03-24 00:00:00                 0       70435  2016-04-07 03:16:57  \n",
       "1  2016-03-24 00:00:00                 0       66954  2016-04-07 01:46:50  \n",
       "2  2016-03-14 00:00:00                 0       90480  2016-04-05 12:47:46  \n",
       "3  2016-03-17 00:00:00                 0       91074  2016-03-17 17:40:17  \n",
       "4  2016-03-31 00:00:00                 0       60437  2016-04-06 10:17:21  "
      ]
     },
     "execution_count": 3,
     "metadata": {},
     "output_type": "execute_result"
    }
   ],
   "source": [
    "data.head()"
   ]
  },
  {
   "cell_type": "code",
   "execution_count": 4,
   "metadata": {},
   "outputs": [
    {
     "name": "stdout",
     "output_type": "stream",
     "text": [
      "<class 'pandas.core.frame.DataFrame'>\n",
      "RangeIndex: 354369 entries, 0 to 354368\n",
      "Data columns (total 16 columns):\n",
      " #   Column             Non-Null Count   Dtype \n",
      "---  ------             --------------   ----- \n",
      " 0   DateCrawled        354369 non-null  object\n",
      " 1   Price              354369 non-null  int64 \n",
      " 2   VehicleType        316879 non-null  object\n",
      " 3   RegistrationYear   354369 non-null  int64 \n",
      " 4   Gearbox            334536 non-null  object\n",
      " 5   Power              354369 non-null  int64 \n",
      " 6   Model              334664 non-null  object\n",
      " 7   Kilometer          354369 non-null  int64 \n",
      " 8   RegistrationMonth  354369 non-null  int64 \n",
      " 9   FuelType           321474 non-null  object\n",
      " 10  Brand              354369 non-null  object\n",
      " 11  Repaired           283215 non-null  object\n",
      " 12  DateCreated        354369 non-null  object\n",
      " 13  NumberOfPictures   354369 non-null  int64 \n",
      " 14  PostalCode         354369 non-null  int64 \n",
      " 15  LastSeen           354369 non-null  object\n",
      "dtypes: int64(7), object(9)\n",
      "memory usage: 43.3+ MB\n"
     ]
    }
   ],
   "source": [
    "data.info()"
   ]
  },
  {
   "cell_type": "code",
   "execution_count": 5,
   "metadata": {},
   "outputs": [
    {
     "data": {
      "text/html": [
       "<div>\n",
       "<style scoped>\n",
       "    .dataframe tbody tr th:only-of-type {\n",
       "        vertical-align: middle;\n",
       "    }\n",
       "\n",
       "    .dataframe tbody tr th {\n",
       "        vertical-align: top;\n",
       "    }\n",
       "\n",
       "    .dataframe thead th {\n",
       "        text-align: right;\n",
       "    }\n",
       "</style>\n",
       "<table border=\"1\" class=\"dataframe\">\n",
       "  <thead>\n",
       "    <tr style=\"text-align: right;\">\n",
       "      <th></th>\n",
       "      <th>Price</th>\n",
       "      <th>RegistrationYear</th>\n",
       "      <th>Power</th>\n",
       "      <th>Kilometer</th>\n",
       "      <th>RegistrationMonth</th>\n",
       "      <th>NumberOfPictures</th>\n",
       "      <th>PostalCode</th>\n",
       "    </tr>\n",
       "  </thead>\n",
       "  <tbody>\n",
       "    <tr>\n",
       "      <th>count</th>\n",
       "      <td>354369.000000</td>\n",
       "      <td>354369.000000</td>\n",
       "      <td>354369.000000</td>\n",
       "      <td>354369.000000</td>\n",
       "      <td>354369.000000</td>\n",
       "      <td>354369.0</td>\n",
       "      <td>354369.000000</td>\n",
       "    </tr>\n",
       "    <tr>\n",
       "      <th>mean</th>\n",
       "      <td>4416.656776</td>\n",
       "      <td>2004.234448</td>\n",
       "      <td>110.094337</td>\n",
       "      <td>128211.172535</td>\n",
       "      <td>5.714645</td>\n",
       "      <td>0.0</td>\n",
       "      <td>50508.689087</td>\n",
       "    </tr>\n",
       "    <tr>\n",
       "      <th>std</th>\n",
       "      <td>4514.158514</td>\n",
       "      <td>90.227958</td>\n",
       "      <td>189.850405</td>\n",
       "      <td>37905.341530</td>\n",
       "      <td>3.726421</td>\n",
       "      <td>0.0</td>\n",
       "      <td>25783.096248</td>\n",
       "    </tr>\n",
       "    <tr>\n",
       "      <th>min</th>\n",
       "      <td>0.000000</td>\n",
       "      <td>1000.000000</td>\n",
       "      <td>0.000000</td>\n",
       "      <td>5000.000000</td>\n",
       "      <td>0.000000</td>\n",
       "      <td>0.0</td>\n",
       "      <td>1067.000000</td>\n",
       "    </tr>\n",
       "    <tr>\n",
       "      <th>25%</th>\n",
       "      <td>1050.000000</td>\n",
       "      <td>1999.000000</td>\n",
       "      <td>69.000000</td>\n",
       "      <td>125000.000000</td>\n",
       "      <td>3.000000</td>\n",
       "      <td>0.0</td>\n",
       "      <td>30165.000000</td>\n",
       "    </tr>\n",
       "    <tr>\n",
       "      <th>50%</th>\n",
       "      <td>2700.000000</td>\n",
       "      <td>2003.000000</td>\n",
       "      <td>105.000000</td>\n",
       "      <td>150000.000000</td>\n",
       "      <td>6.000000</td>\n",
       "      <td>0.0</td>\n",
       "      <td>49413.000000</td>\n",
       "    </tr>\n",
       "    <tr>\n",
       "      <th>75%</th>\n",
       "      <td>6400.000000</td>\n",
       "      <td>2008.000000</td>\n",
       "      <td>143.000000</td>\n",
       "      <td>150000.000000</td>\n",
       "      <td>9.000000</td>\n",
       "      <td>0.0</td>\n",
       "      <td>71083.000000</td>\n",
       "    </tr>\n",
       "    <tr>\n",
       "      <th>max</th>\n",
       "      <td>20000.000000</td>\n",
       "      <td>9999.000000</td>\n",
       "      <td>20000.000000</td>\n",
       "      <td>150000.000000</td>\n",
       "      <td>12.000000</td>\n",
       "      <td>0.0</td>\n",
       "      <td>99998.000000</td>\n",
       "    </tr>\n",
       "  </tbody>\n",
       "</table>\n",
       "</div>"
      ],
      "text/plain": [
       "               Price  RegistrationYear          Power      Kilometer  \\\n",
       "count  354369.000000     354369.000000  354369.000000  354369.000000   \n",
       "mean     4416.656776       2004.234448     110.094337  128211.172535   \n",
       "std      4514.158514         90.227958     189.850405   37905.341530   \n",
       "min         0.000000       1000.000000       0.000000    5000.000000   \n",
       "25%      1050.000000       1999.000000      69.000000  125000.000000   \n",
       "50%      2700.000000       2003.000000     105.000000  150000.000000   \n",
       "75%      6400.000000       2008.000000     143.000000  150000.000000   \n",
       "max     20000.000000       9999.000000   20000.000000  150000.000000   \n",
       "\n",
       "       RegistrationMonth  NumberOfPictures     PostalCode  \n",
       "count      354369.000000          354369.0  354369.000000  \n",
       "mean            5.714645               0.0   50508.689087  \n",
       "std             3.726421               0.0   25783.096248  \n",
       "min             0.000000               0.0    1067.000000  \n",
       "25%             3.000000               0.0   30165.000000  \n",
       "50%             6.000000               0.0   49413.000000  \n",
       "75%             9.000000               0.0   71083.000000  \n",
       "max            12.000000               0.0   99998.000000  "
      ]
     },
     "execution_count": 5,
     "metadata": {},
     "output_type": "execute_result"
    }
   ],
   "source": [
    "data.describe()"
   ]
  },
  {
   "cell_type": "markdown",
   "metadata": {},
   "source": [
    "**Очевидно, что среди признаков имеются неинформативные, такие как:** \n",
    "\n",
    "- `DateCrawled` — дата скачивания анкеты из базы\n",
    "- `DateCreated` — дата создания анкеты\n",
    "- `PostalCode` — почтовый индекс владельца анкеты (пользователя)\n",
    "- `LastSeen` — дата последней активности пользователя\n",
    "- `NumberOfPictures` — количество фотографий автомобиля \n",
    "\n",
    "**Удалим их.**"
   ]
  },
  {
   "cell_type": "code",
   "execution_count": 6,
   "metadata": {},
   "outputs": [],
   "source": [
    "data = data.drop(['DateCrawled', 'DateCreated', 'PostalCode', 'LastSeen', 'NumberOfPictures'], axis=1)"
   ]
  },
  {
   "cell_type": "markdown",
   "metadata": {},
   "source": [
    "Подумаем еще, влияет ли как-то месяц __постановки автомобиля на учёт__ `RegistrationMonth`  на его цену - важно ли будущему автовладельцу, что его автомобиль поставлен на учёт, скажем, в сентябре, а не в июне?"
   ]
  },
  {
   "cell_type": "code",
   "execution_count": 7,
   "metadata": {},
   "outputs": [
    {
     "name": "stdout",
     "output_type": "stream",
     "text": [
      "Корреляция между признаком RegistrationMonth и признаком Price: 0.11058102775308232\n"
     ]
    }
   ],
   "source": [
    "# Вычисление корреляции\n",
    "correlation = data['RegistrationMonth'].corr(data['Price'])\n",
    "print(\"Корреляция между признаком RegistrationMonth и признаком Price:\", correlation)"
   ]
  },
  {
   "cell_type": "markdown",
   "metadata": {},
   "source": [
    "Корреляция между признаками RegistrationMonth (месяц регистрации автомобиля) и Price (цена автомобиля) равна примерно 0.11.\n",
    "\n",
    "Значение корреляции близкое к нулю указывает на то, что между этими двумя признаками есть очень слабая линейная зависимость. Это означает, что изменения в месяце регистрации автомобиля слабо связаны с изменениями в его цене.\n",
    "\n",
    "В этом случае, можно предположить, что месяц регистрации автомобиля не является существенным фактором при определении его цены. Удалим этот признак тоже."
   ]
  },
  {
   "cell_type": "code",
   "execution_count": 8,
   "metadata": {},
   "outputs": [],
   "source": [
    "data = data.drop(['RegistrationMonth'], axis=1)"
   ]
  },
  {
   "cell_type": "markdown",
   "metadata": {},
   "source": [
    "**Изучим пропущенные значения:**"
   ]
  },
  {
   "cell_type": "code",
   "execution_count": 9,
   "metadata": {},
   "outputs": [
    {
     "data": {
      "text/html": [
       "<div>\n",
       "<style scoped>\n",
       "    .dataframe tbody tr th:only-of-type {\n",
       "        vertical-align: middle;\n",
       "    }\n",
       "\n",
       "    .dataframe tbody tr th {\n",
       "        vertical-align: top;\n",
       "    }\n",
       "\n",
       "    .dataframe thead th {\n",
       "        text-align: right;\n",
       "    }\n",
       "</style>\n",
       "<table border=\"1\" class=\"dataframe\">\n",
       "  <thead>\n",
       "    <tr style=\"text-align: right;\">\n",
       "      <th></th>\n",
       "      <th>Количество пропущенных значений</th>\n",
       "      <th>Процент пропущенных значений</th>\n",
       "    </tr>\n",
       "  </thead>\n",
       "  <tbody>\n",
       "    <tr>\n",
       "      <th>Price</th>\n",
       "      <td>0</td>\n",
       "      <td>0.00</td>\n",
       "    </tr>\n",
       "    <tr>\n",
       "      <th>VehicleType</th>\n",
       "      <td>37490</td>\n",
       "      <td>10.58</td>\n",
       "    </tr>\n",
       "    <tr>\n",
       "      <th>RegistrationYear</th>\n",
       "      <td>0</td>\n",
       "      <td>0.00</td>\n",
       "    </tr>\n",
       "    <tr>\n",
       "      <th>Gearbox</th>\n",
       "      <td>19833</td>\n",
       "      <td>5.60</td>\n",
       "    </tr>\n",
       "    <tr>\n",
       "      <th>Power</th>\n",
       "      <td>0</td>\n",
       "      <td>0.00</td>\n",
       "    </tr>\n",
       "    <tr>\n",
       "      <th>Model</th>\n",
       "      <td>19705</td>\n",
       "      <td>5.56</td>\n",
       "    </tr>\n",
       "    <tr>\n",
       "      <th>Kilometer</th>\n",
       "      <td>0</td>\n",
       "      <td>0.00</td>\n",
       "    </tr>\n",
       "    <tr>\n",
       "      <th>FuelType</th>\n",
       "      <td>32895</td>\n",
       "      <td>9.28</td>\n",
       "    </tr>\n",
       "    <tr>\n",
       "      <th>Brand</th>\n",
       "      <td>0</td>\n",
       "      <td>0.00</td>\n",
       "    </tr>\n",
       "    <tr>\n",
       "      <th>Repaired</th>\n",
       "      <td>71154</td>\n",
       "      <td>20.08</td>\n",
       "    </tr>\n",
       "  </tbody>\n",
       "</table>\n",
       "</div>"
      ],
      "text/plain": [
       "                  Количество пропущенных значений  \\\n",
       "Price                                           0   \n",
       "VehicleType                                 37490   \n",
       "RegistrationYear                                0   \n",
       "Gearbox                                     19833   \n",
       "Power                                           0   \n",
       "Model                                       19705   \n",
       "Kilometer                                       0   \n",
       "FuelType                                    32895   \n",
       "Brand                                           0   \n",
       "Repaired                                    71154   \n",
       "\n",
       "                  Процент пропущенных значений  \n",
       "Price                                     0.00  \n",
       "VehicleType                              10.58  \n",
       "RegistrationYear                          0.00  \n",
       "Gearbox                                   5.60  \n",
       "Power                                     0.00  \n",
       "Model                                     5.56  \n",
       "Kilometer                                 0.00  \n",
       "FuelType                                  9.28  \n",
       "Brand                                     0.00  \n",
       "Repaired                                 20.08  "
      ]
     },
     "execution_count": 9,
     "metadata": {},
     "output_type": "execute_result"
    }
   ],
   "source": [
    "# Вывод количества пропущенных значений в каждом столбце\n",
    "missing_values = data.isnull().sum()\n",
    "\n",
    "# Вывод процента пропущенных значений в каждом столбце\n",
    "percentage_missing = ((data.isnull().sum() / len(data)) * 100).round(2)\n",
    "\n",
    "# Создание DataFrame для удобства отображения\n",
    "missing_info = pd.DataFrame({\n",
    "    'Количество пропущенных значений': missing_values,\n",
    "    'Процент пропущенных значений': percentage_missing\n",
    "})\n",
    "\n",
    "# Вывод информации о пропущенных значениях\n",
    "missing_info"
   ]
  },
  {
   "cell_type": "markdown",
   "metadata": {},
   "source": [
    "**Пропуски обнаружились в столбцах:**\n",
    "- `VehicleType` — тип автомобильного кузова (10.58% пропущенных значений)\n",
    "- `Gearbox` — тип коробки передач (5.6% пропущенных значений)\n",
    "- `Model` — модель автомобиля (5.56% пропущенных значений)\n",
    "- `FuelType` — тип топлива (9.28% пропущенных значений)\n",
    "- `Repaired` — была машина в ремонте или нет (20.08% пропущенных значений)"
   ]
  },
  {
   "cell_type": "markdown",
   "metadata": {},
   "source": [
    "Каждая запись представляет собой ценный кусочек информации. Удалять данные в нашем случае точно не лучший вариант, поскольку они могут содержать важные паттерны или отражать специфические характеристики наших данных.\n",
    "\n",
    "В случае признаков, таких как тип автомобильного кузова, тип коробки передач, модель автомобиля, тип топлива и информация о ремонте, удаление данных представляется слишком рискованным шагом. Эти признаки могут содержать ключевую информацию, которая влияет на наше понимание данных и на результаты анализа.\n",
    "\n",
    "Однако, заполнение пропущенных значений в категориальных признаках также представляет свои трудности. Без конкретной информации о природе этих пропущенных значений мы вынуждены принять решение о том, как их заполнить. В этом случае мы решаем использовать заглушку \"unknown\" для каждого из этих признаков. Даже для столбца, указывающего на то, проходила ли машина ремонт или нет, мы прибегаем к использованию \"unknown\". Это объясняется тем, что сложно сказать, почему данные значения отсутствуют. Возможно, пользователь забыл заполнить это поле, или же он намеренно скрывает информацию о том, что его машина побывала в ремонте.\n",
    "\n",
    "Таким образом, заполнение пропущенных значений заглушкой \"unknown\" позволяет нам сохранить ценную информацию, содержащуюся в наших данных, и продолжить анализ, минимизируя влияние пропусков на результаты исследования."
   ]
  },
  {
   "cell_type": "code",
   "execution_count": 10,
   "metadata": {},
   "outputs": [],
   "source": [
    "# Список признаков, в которых есть пропуски\n",
    "unknown_features = ['VehicleType', 'Gearbox', 'Model', 'FuelType', 'Repaired']\n",
    "\n",
    "# Заполнение пропущенных значений в признаках заглушкой \"unknown\"\n",
    "for feature in unknown_features:\n",
    "    data[feature].fillna('unknown', inplace=True)"
   ]
  },
  {
   "cell_type": "markdown",
   "metadata": {},
   "source": [
    "**Проверим на наличие явных дубликатов:**"
   ]
  },
  {
   "cell_type": "code",
   "execution_count": 11,
   "metadata": {},
   "outputs": [
    {
     "name": "stdout",
     "output_type": "stream",
     "text": [
      "Явные дубликаты:\n"
     ]
    },
    {
     "data": {
      "text/html": [
       "<div>\n",
       "<style scoped>\n",
       "    .dataframe tbody tr th:only-of-type {\n",
       "        vertical-align: middle;\n",
       "    }\n",
       "\n",
       "    .dataframe tbody tr th {\n",
       "        vertical-align: top;\n",
       "    }\n",
       "\n",
       "    .dataframe thead th {\n",
       "        text-align: right;\n",
       "    }\n",
       "</style>\n",
       "<table border=\"1\" class=\"dataframe\">\n",
       "  <thead>\n",
       "    <tr style=\"text-align: right;\">\n",
       "      <th></th>\n",
       "      <th>Price</th>\n",
       "      <th>VehicleType</th>\n",
       "      <th>RegistrationYear</th>\n",
       "      <th>Gearbox</th>\n",
       "      <th>Power</th>\n",
       "      <th>Model</th>\n",
       "      <th>Kilometer</th>\n",
       "      <th>FuelType</th>\n",
       "      <th>Brand</th>\n",
       "      <th>Repaired</th>\n",
       "    </tr>\n",
       "  </thead>\n",
       "  <tbody>\n",
       "    <tr>\n",
       "      <th>94360</th>\n",
       "      <td>20000</td>\n",
       "      <td>sedan</td>\n",
       "      <td>2011</td>\n",
       "      <td>auto</td>\n",
       "      <td>265</td>\n",
       "      <td>c_klasse</td>\n",
       "      <td>50000</td>\n",
       "      <td>gasoline</td>\n",
       "      <td>mercedes_benz</td>\n",
       "      <td>no</td>\n",
       "    </tr>\n",
       "    <tr>\n",
       "      <th>95559</th>\n",
       "      <td>20000</td>\n",
       "      <td>sedan</td>\n",
       "      <td>2011</td>\n",
       "      <td>auto</td>\n",
       "      <td>265</td>\n",
       "      <td>c_klasse</td>\n",
       "      <td>50000</td>\n",
       "      <td>gasoline</td>\n",
       "      <td>mercedes_benz</td>\n",
       "      <td>no</td>\n",
       "    </tr>\n",
       "    <tr>\n",
       "      <th>100514</th>\n",
       "      <td>20000</td>\n",
       "      <td>sedan</td>\n",
       "      <td>2011</td>\n",
       "      <td>auto</td>\n",
       "      <td>265</td>\n",
       "      <td>c_klasse</td>\n",
       "      <td>50000</td>\n",
       "      <td>gasoline</td>\n",
       "      <td>mercedes_benz</td>\n",
       "      <td>no</td>\n",
       "    </tr>\n",
       "    <tr>\n",
       "      <th>107730</th>\n",
       "      <td>20000</td>\n",
       "      <td>sedan</td>\n",
       "      <td>2011</td>\n",
       "      <td>auto</td>\n",
       "      <td>265</td>\n",
       "      <td>c_klasse</td>\n",
       "      <td>50000</td>\n",
       "      <td>gasoline</td>\n",
       "      <td>mercedes_benz</td>\n",
       "      <td>no</td>\n",
       "    </tr>\n",
       "    <tr>\n",
       "      <th>115867</th>\n",
       "      <td>20000</td>\n",
       "      <td>sedan</td>\n",
       "      <td>2011</td>\n",
       "      <td>auto</td>\n",
       "      <td>265</td>\n",
       "      <td>c_klasse</td>\n",
       "      <td>50000</td>\n",
       "      <td>gasoline</td>\n",
       "      <td>mercedes_benz</td>\n",
       "      <td>no</td>\n",
       "    </tr>\n",
       "    <tr>\n",
       "      <th>126073</th>\n",
       "      <td>20000</td>\n",
       "      <td>sedan</td>\n",
       "      <td>2011</td>\n",
       "      <td>auto</td>\n",
       "      <td>265</td>\n",
       "      <td>c_klasse</td>\n",
       "      <td>50000</td>\n",
       "      <td>gasoline</td>\n",
       "      <td>mercedes_benz</td>\n",
       "      <td>no</td>\n",
       "    </tr>\n",
       "    <tr>\n",
       "      <th>174393</th>\n",
       "      <td>20000</td>\n",
       "      <td>sedan</td>\n",
       "      <td>2011</td>\n",
       "      <td>auto</td>\n",
       "      <td>265</td>\n",
       "      <td>c_klasse</td>\n",
       "      <td>50000</td>\n",
       "      <td>gasoline</td>\n",
       "      <td>mercedes_benz</td>\n",
       "      <td>no</td>\n",
       "    </tr>\n",
       "    <tr>\n",
       "      <th>201971</th>\n",
       "      <td>20000</td>\n",
       "      <td>sedan</td>\n",
       "      <td>2011</td>\n",
       "      <td>auto</td>\n",
       "      <td>265</td>\n",
       "      <td>c_klasse</td>\n",
       "      <td>50000</td>\n",
       "      <td>gasoline</td>\n",
       "      <td>mercedes_benz</td>\n",
       "      <td>no</td>\n",
       "    </tr>\n",
       "    <tr>\n",
       "      <th>203409</th>\n",
       "      <td>20000</td>\n",
       "      <td>sedan</td>\n",
       "      <td>2011</td>\n",
       "      <td>auto</td>\n",
       "      <td>265</td>\n",
       "      <td>c_klasse</td>\n",
       "      <td>50000</td>\n",
       "      <td>gasoline</td>\n",
       "      <td>mercedes_benz</td>\n",
       "      <td>no</td>\n",
       "    </tr>\n",
       "    <tr>\n",
       "      <th>212039</th>\n",
       "      <td>20000</td>\n",
       "      <td>sedan</td>\n",
       "      <td>2011</td>\n",
       "      <td>auto</td>\n",
       "      <td>265</td>\n",
       "      <td>c_klasse</td>\n",
       "      <td>50000</td>\n",
       "      <td>gasoline</td>\n",
       "      <td>mercedes_benz</td>\n",
       "      <td>no</td>\n",
       "    </tr>\n",
       "    <tr>\n",
       "      <th>215337</th>\n",
       "      <td>20000</td>\n",
       "      <td>sedan</td>\n",
       "      <td>2011</td>\n",
       "      <td>auto</td>\n",
       "      <td>265</td>\n",
       "      <td>c_klasse</td>\n",
       "      <td>50000</td>\n",
       "      <td>gasoline</td>\n",
       "      <td>mercedes_benz</td>\n",
       "      <td>no</td>\n",
       "    </tr>\n",
       "    <tr>\n",
       "      <th>215935</th>\n",
       "      <td>20000</td>\n",
       "      <td>sedan</td>\n",
       "      <td>2011</td>\n",
       "      <td>auto</td>\n",
       "      <td>265</td>\n",
       "      <td>c_klasse</td>\n",
       "      <td>50000</td>\n",
       "      <td>gasoline</td>\n",
       "      <td>mercedes_benz</td>\n",
       "      <td>no</td>\n",
       "    </tr>\n",
       "    <tr>\n",
       "      <th>221694</th>\n",
       "      <td>20000</td>\n",
       "      <td>sedan</td>\n",
       "      <td>2011</td>\n",
       "      <td>auto</td>\n",
       "      <td>265</td>\n",
       "      <td>c_klasse</td>\n",
       "      <td>50000</td>\n",
       "      <td>gasoline</td>\n",
       "      <td>mercedes_benz</td>\n",
       "      <td>no</td>\n",
       "    </tr>\n",
       "    <tr>\n",
       "      <th>226286</th>\n",
       "      <td>20000</td>\n",
       "      <td>sedan</td>\n",
       "      <td>2011</td>\n",
       "      <td>auto</td>\n",
       "      <td>265</td>\n",
       "      <td>c_klasse</td>\n",
       "      <td>50000</td>\n",
       "      <td>gasoline</td>\n",
       "      <td>mercedes_benz</td>\n",
       "      <td>no</td>\n",
       "    </tr>\n",
       "    <tr>\n",
       "      <th>228640</th>\n",
       "      <td>20000</td>\n",
       "      <td>sedan</td>\n",
       "      <td>2011</td>\n",
       "      <td>auto</td>\n",
       "      <td>265</td>\n",
       "      <td>c_klasse</td>\n",
       "      <td>50000</td>\n",
       "      <td>gasoline</td>\n",
       "      <td>mercedes_benz</td>\n",
       "      <td>no</td>\n",
       "    </tr>\n",
       "    <tr>\n",
       "      <th>231761</th>\n",
       "      <td>20000</td>\n",
       "      <td>sedan</td>\n",
       "      <td>2011</td>\n",
       "      <td>auto</td>\n",
       "      <td>265</td>\n",
       "      <td>c_klasse</td>\n",
       "      <td>50000</td>\n",
       "      <td>gasoline</td>\n",
       "      <td>mercedes_benz</td>\n",
       "      <td>no</td>\n",
       "    </tr>\n",
       "    <tr>\n",
       "      <th>249250</th>\n",
       "      <td>20000</td>\n",
       "      <td>sedan</td>\n",
       "      <td>2011</td>\n",
       "      <td>auto</td>\n",
       "      <td>265</td>\n",
       "      <td>c_klasse</td>\n",
       "      <td>50000</td>\n",
       "      <td>gasoline</td>\n",
       "      <td>mercedes_benz</td>\n",
       "      <td>no</td>\n",
       "    </tr>\n",
       "    <tr>\n",
       "      <th>262000</th>\n",
       "      <td>20000</td>\n",
       "      <td>sedan</td>\n",
       "      <td>2011</td>\n",
       "      <td>auto</td>\n",
       "      <td>265</td>\n",
       "      <td>c_klasse</td>\n",
       "      <td>50000</td>\n",
       "      <td>gasoline</td>\n",
       "      <td>mercedes_benz</td>\n",
       "      <td>no</td>\n",
       "    </tr>\n",
       "    <tr>\n",
       "      <th>262818</th>\n",
       "      <td>20000</td>\n",
       "      <td>sedan</td>\n",
       "      <td>2011</td>\n",
       "      <td>auto</td>\n",
       "      <td>265</td>\n",
       "      <td>c_klasse</td>\n",
       "      <td>50000</td>\n",
       "      <td>gasoline</td>\n",
       "      <td>mercedes_benz</td>\n",
       "      <td>no</td>\n",
       "    </tr>\n",
       "    <tr>\n",
       "      <th>268845</th>\n",
       "      <td>20000</td>\n",
       "      <td>sedan</td>\n",
       "      <td>2011</td>\n",
       "      <td>auto</td>\n",
       "      <td>265</td>\n",
       "      <td>c_klasse</td>\n",
       "      <td>50000</td>\n",
       "      <td>gasoline</td>\n",
       "      <td>mercedes_benz</td>\n",
       "      <td>no</td>\n",
       "    </tr>\n",
       "    <tr>\n",
       "      <th>271010</th>\n",
       "      <td>20000</td>\n",
       "      <td>sedan</td>\n",
       "      <td>2011</td>\n",
       "      <td>auto</td>\n",
       "      <td>265</td>\n",
       "      <td>c_klasse</td>\n",
       "      <td>50000</td>\n",
       "      <td>gasoline</td>\n",
       "      <td>mercedes_benz</td>\n",
       "      <td>no</td>\n",
       "    </tr>\n",
       "    <tr>\n",
       "      <th>280897</th>\n",
       "      <td>20000</td>\n",
       "      <td>sedan</td>\n",
       "      <td>2011</td>\n",
       "      <td>auto</td>\n",
       "      <td>265</td>\n",
       "      <td>c_klasse</td>\n",
       "      <td>50000</td>\n",
       "      <td>gasoline</td>\n",
       "      <td>mercedes_benz</td>\n",
       "      <td>no</td>\n",
       "    </tr>\n",
       "    <tr>\n",
       "      <th>305781</th>\n",
       "      <td>20000</td>\n",
       "      <td>sedan</td>\n",
       "      <td>2011</td>\n",
       "      <td>auto</td>\n",
       "      <td>265</td>\n",
       "      <td>c_klasse</td>\n",
       "      <td>50000</td>\n",
       "      <td>gasoline</td>\n",
       "      <td>mercedes_benz</td>\n",
       "      <td>no</td>\n",
       "    </tr>\n",
       "    <tr>\n",
       "      <th>320429</th>\n",
       "      <td>20000</td>\n",
       "      <td>sedan</td>\n",
       "      <td>2011</td>\n",
       "      <td>auto</td>\n",
       "      <td>265</td>\n",
       "      <td>c_klasse</td>\n",
       "      <td>50000</td>\n",
       "      <td>gasoline</td>\n",
       "      <td>mercedes_benz</td>\n",
       "      <td>no</td>\n",
       "    </tr>\n",
       "    <tr>\n",
       "      <th>320559</th>\n",
       "      <td>20000</td>\n",
       "      <td>sedan</td>\n",
       "      <td>2011</td>\n",
       "      <td>auto</td>\n",
       "      <td>265</td>\n",
       "      <td>c_klasse</td>\n",
       "      <td>50000</td>\n",
       "      <td>gasoline</td>\n",
       "      <td>mercedes_benz</td>\n",
       "      <td>no</td>\n",
       "    </tr>\n",
       "    <tr>\n",
       "      <th>321365</th>\n",
       "      <td>20000</td>\n",
       "      <td>sedan</td>\n",
       "      <td>2011</td>\n",
       "      <td>auto</td>\n",
       "      <td>265</td>\n",
       "      <td>c_klasse</td>\n",
       "      <td>50000</td>\n",
       "      <td>gasoline</td>\n",
       "      <td>mercedes_benz</td>\n",
       "      <td>no</td>\n",
       "    </tr>\n",
       "    <tr>\n",
       "      <th>1586</th>\n",
       "      <td>20000</td>\n",
       "      <td>sedan</td>\n",
       "      <td>2014</td>\n",
       "      <td>auto</td>\n",
       "      <td>184</td>\n",
       "      <td>leon</td>\n",
       "      <td>40000</td>\n",
       "      <td>gasoline</td>\n",
       "      <td>seat</td>\n",
       "      <td>no</td>\n",
       "    </tr>\n",
       "    <tr>\n",
       "      <th>336693</th>\n",
       "      <td>20000</td>\n",
       "      <td>sedan</td>\n",
       "      <td>2014</td>\n",
       "      <td>auto</td>\n",
       "      <td>184</td>\n",
       "      <td>leon</td>\n",
       "      <td>40000</td>\n",
       "      <td>gasoline</td>\n",
       "      <td>seat</td>\n",
       "      <td>no</td>\n",
       "    </tr>\n",
       "    <tr>\n",
       "      <th>142818</th>\n",
       "      <td>20000</td>\n",
       "      <td>suv</td>\n",
       "      <td>2011</td>\n",
       "      <td>manual</td>\n",
       "      <td>150</td>\n",
       "      <td>tiguan</td>\n",
       "      <td>80000</td>\n",
       "      <td>petrol</td>\n",
       "      <td>volkswagen</td>\n",
       "      <td>no</td>\n",
       "    </tr>\n",
       "    <tr>\n",
       "      <th>143161</th>\n",
       "      <td>20000</td>\n",
       "      <td>suv</td>\n",
       "      <td>2011</td>\n",
       "      <td>manual</td>\n",
       "      <td>150</td>\n",
       "      <td>tiguan</td>\n",
       "      <td>80000</td>\n",
       "      <td>petrol</td>\n",
       "      <td>volkswagen</td>\n",
       "      <td>no</td>\n",
       "    </tr>\n",
       "  </tbody>\n",
       "</table>\n",
       "</div>"
      ],
      "text/plain": [
       "        Price VehicleType  RegistrationYear Gearbox  Power     Model  \\\n",
       "94360   20000       sedan              2011    auto    265  c_klasse   \n",
       "95559   20000       sedan              2011    auto    265  c_klasse   \n",
       "100514  20000       sedan              2011    auto    265  c_klasse   \n",
       "107730  20000       sedan              2011    auto    265  c_klasse   \n",
       "115867  20000       sedan              2011    auto    265  c_klasse   \n",
       "126073  20000       sedan              2011    auto    265  c_klasse   \n",
       "174393  20000       sedan              2011    auto    265  c_klasse   \n",
       "201971  20000       sedan              2011    auto    265  c_klasse   \n",
       "203409  20000       sedan              2011    auto    265  c_klasse   \n",
       "212039  20000       sedan              2011    auto    265  c_klasse   \n",
       "215337  20000       sedan              2011    auto    265  c_klasse   \n",
       "215935  20000       sedan              2011    auto    265  c_klasse   \n",
       "221694  20000       sedan              2011    auto    265  c_klasse   \n",
       "226286  20000       sedan              2011    auto    265  c_klasse   \n",
       "228640  20000       sedan              2011    auto    265  c_klasse   \n",
       "231761  20000       sedan              2011    auto    265  c_klasse   \n",
       "249250  20000       sedan              2011    auto    265  c_klasse   \n",
       "262000  20000       sedan              2011    auto    265  c_klasse   \n",
       "262818  20000       sedan              2011    auto    265  c_klasse   \n",
       "268845  20000       sedan              2011    auto    265  c_klasse   \n",
       "271010  20000       sedan              2011    auto    265  c_klasse   \n",
       "280897  20000       sedan              2011    auto    265  c_klasse   \n",
       "305781  20000       sedan              2011    auto    265  c_klasse   \n",
       "320429  20000       sedan              2011    auto    265  c_klasse   \n",
       "320559  20000       sedan              2011    auto    265  c_klasse   \n",
       "321365  20000       sedan              2011    auto    265  c_klasse   \n",
       "1586    20000       sedan              2014    auto    184      leon   \n",
       "336693  20000       sedan              2014    auto    184      leon   \n",
       "142818  20000         suv              2011  manual    150    tiguan   \n",
       "143161  20000         suv              2011  manual    150    tiguan   \n",
       "\n",
       "        Kilometer  FuelType          Brand Repaired  \n",
       "94360       50000  gasoline  mercedes_benz       no  \n",
       "95559       50000  gasoline  mercedes_benz       no  \n",
       "100514      50000  gasoline  mercedes_benz       no  \n",
       "107730      50000  gasoline  mercedes_benz       no  \n",
       "115867      50000  gasoline  mercedes_benz       no  \n",
       "126073      50000  gasoline  mercedes_benz       no  \n",
       "174393      50000  gasoline  mercedes_benz       no  \n",
       "201971      50000  gasoline  mercedes_benz       no  \n",
       "203409      50000  gasoline  mercedes_benz       no  \n",
       "212039      50000  gasoline  mercedes_benz       no  \n",
       "215337      50000  gasoline  mercedes_benz       no  \n",
       "215935      50000  gasoline  mercedes_benz       no  \n",
       "221694      50000  gasoline  mercedes_benz       no  \n",
       "226286      50000  gasoline  mercedes_benz       no  \n",
       "228640      50000  gasoline  mercedes_benz       no  \n",
       "231761      50000  gasoline  mercedes_benz       no  \n",
       "249250      50000  gasoline  mercedes_benz       no  \n",
       "262000      50000  gasoline  mercedes_benz       no  \n",
       "262818      50000  gasoline  mercedes_benz       no  \n",
       "268845      50000  gasoline  mercedes_benz       no  \n",
       "271010      50000  gasoline  mercedes_benz       no  \n",
       "280897      50000  gasoline  mercedes_benz       no  \n",
       "305781      50000  gasoline  mercedes_benz       no  \n",
       "320429      50000  gasoline  mercedes_benz       no  \n",
       "320559      50000  gasoline  mercedes_benz       no  \n",
       "321365      50000  gasoline  mercedes_benz       no  \n",
       "1586        40000  gasoline           seat       no  \n",
       "336693      40000  gasoline           seat       no  \n",
       "142818      80000    petrol     volkswagen       no  \n",
       "143161      80000    petrol     volkswagen       no  "
      ]
     },
     "execution_count": 11,
     "metadata": {},
     "output_type": "execute_result"
    }
   ],
   "source": [
    "num_duplicated = data.duplicated().sum()\n",
    "\n",
    "data_sorted = data.sort_values(by=data.columns.tolist())\n",
    "\n",
    "duplicates = data_sorted[data_sorted.duplicated(keep=False)]\n",
    "\n",
    "print(\"Явные дубликаты:\")\n",
    "duplicates.tail(30)"
   ]
  },
  {
   "cell_type": "code",
   "execution_count": 12,
   "metadata": {},
   "outputs": [
    {
     "name": "stdout",
     "output_type": "stream",
     "text": [
      "Количество явных дубликатов: 45040\n"
     ]
    }
   ],
   "source": [
    "print('Количество явных дубликатов:', num_duplicated)"
   ]
  },
  {
   "cell_type": "code",
   "execution_count": 13,
   "metadata": {},
   "outputs": [],
   "source": [
    "# Удаляем явные дубликаты\n",
    "data.drop_duplicates(inplace=True)"
   ]
  },
  {
   "cell_type": "markdown",
   "metadata": {},
   "source": [
    "**Проведем более детальное исследование данных:**"
   ]
  },
  {
   "cell_type": "code",
   "execution_count": 14,
   "metadata": {},
   "outputs": [
    {
     "name": "stdout",
     "output_type": "stream",
     "text": [
      "Основная информация о признаке: Price\n",
      "count    309329.000000\n",
      "mean       4486.937196\n",
      "std        4564.852796\n",
      "min           0.000000\n",
      "25%        1100.000000\n",
      "50%        2800.000000\n",
      "75%        6500.000000\n",
      "max       20000.000000\n",
      "Name: Price, dtype: float64\n"
     ]
    },
    {
     "data": {
      "image/png": "[encoded data removed]",
      "text/plain": [
       "<Figure size 720x432 with 1 Axes>"
      ]
     },
     "metadata": {
      "needs_background": "light"
     },
     "output_type": "display_data"
    },
    {
     "data": {
      "image/png": "[encoded data removed]",
      "text/plain": [
       "<Figure size 720x432 with 1 Axes>"
      ]
     },
     "metadata": {
      "needs_background": "light"
     },
     "output_type": "display_data"
    },
    {
     "name": "stdout",
     "output_type": "stream",
     "text": [
      "Основная информация о признаке: RegistrationYear\n",
      "count    309329.000000\n",
      "mean       2004.360105\n",
      "std          92.541399\n",
      "min        1000.000000\n",
      "25%        1999.000000\n",
      "50%        2003.000000\n",
      "75%        2008.000000\n",
      "max        9999.000000\n",
      "Name: RegistrationYear, dtype: float64\n"
     ]
    },
    {
     "data": {
      "image/png": "[encoded data removed]",
      "text/plain": [
       "<Figure size 720x432 with 1 Axes>"
      ]
     },
     "metadata": {
      "needs_background": "light"
     },
     "output_type": "display_data"
    },
    {
     "data": {
      "image/png": "[encoded data removed]",
      "text/plain": [
       "<Figure size 720x432 with 1 Axes>"
      ]
     },
     "metadata": {
      "needs_background": "light"
     },
     "output_type": "display_data"
    },
    {
     "name": "stdout",
     "output_type": "stream",
     "text": [
      "Основная информация о признаке: Power\n",
      "count    309329.000000\n",
      "mean        110.976908\n",
      "std         200.969473\n",
      "min           0.000000\n",
      "25%          69.000000\n",
      "50%         105.000000\n",
      "75%         143.000000\n",
      "max       20000.000000\n",
      "Name: Power, dtype: float64\n"
     ]
    },
    {
     "data": {
      "image/png": "[encoded data removed]",
      "text/plain": [
       "<Figure size 720x432 with 1 Axes>"
      ]
     },
     "metadata": {
      "needs_background": "light"
     },
     "output_type": "display_data"
    },
    {
     "data": {
      "image/png": "[encoded data removed]",
      "text/plain": [
       "<Figure size 720x432 with 1 Axes>"
      ]
     },
     "metadata": {
      "needs_background": "light"
     },
     "output_type": "display_data"
    },
    {
     "name": "stdout",
     "output_type": "stream",
     "text": [
      "Основная информация о признаке: Kilometer\n",
      "count    309329.000000\n",
      "mean     127217.735809\n",
      "std       38532.941010\n",
      "min        5000.000000\n",
      "25%      125000.000000\n",
      "50%      150000.000000\n",
      "75%      150000.000000\n",
      "max      150000.000000\n",
      "Name: Kilometer, dtype: float64\n"
     ]
    },
    {
     "data": {
      "image/png": "[encoded data removed]",
      "text/plain": [
       "<Figure size 720x432 with 1 Axes>"
      ]
     },
     "metadata": {
      "needs_background": "light"
     },
     "output_type": "display_data"
    },
    {
     "data": {
      "image/png": "[encoded data removed]",
      "text/plain": [
       "<Figure size 720x432 with 1 Axes>"
      ]
     },
     "metadata": {
      "needs_background": "light"
     },
     "output_type": "display_data"
    }
   ],
   "source": [
    "numerical_features = data.select_dtypes(include=['int', 'float']).columns\n",
    "\n",
    "for feature in numerical_features:\n",
    "    # Вывод основной информации о признаке\n",
    "    print(f\"Основная информация о признаке: {feature}\")\n",
    "    print(data[feature].describe())\n",
    "    \n",
    "    # Построение гистограммы\n",
    "    plt.figure(figsize=(10, 6))\n",
    "    sns.histplot(data[feature], kde=True, bins=12) \n",
    "    plt.title(f\"Гистограмма признака: {feature}\")\n",
    "    plt.xlabel(feature)\n",
    "    plt.ylabel('Частота')\n",
    "    plt.show()\n",
    "    \n",
    "    # Построение ящика с усами (boxplot)\n",
    "    plt.figure(figsize=(10, 6))\n",
    "    sns.boxplot(x=data[feature])\n",
    "    plt.title(f\"Ящик с усами: {feature}\")\n",
    "    plt.xlabel(feature)\n",
    "    plt.show()"
   ]
  },
  {
   "cell_type": "markdown",
   "metadata": {},
   "source": [
    "**Разберемся с аномальными значениями в столбцах:**"
   ]
  },
  {
   "cell_type": "markdown",
   "metadata": {},
   "source": [
    "`RegistrationYear — год регистрации автомобиля`: удалим строки, где год регистрации ниже 1910 и превышает дату выгрузки."
   ]
  },
  {
   "cell_type": "code",
   "execution_count": 15,
   "metadata": {},
   "outputs": [],
   "source": [
    "data = data.drop(data[(data['RegistrationYear'] > 2016) | (data['RegistrationYear'] < 1910)].index, axis=0)"
   ]
  },
  {
   "cell_type": "markdown",
   "metadata": {},
   "source": [
    "`Power — мощность (л. с.)`: машин с мощностью более 2000 л. с. не существует, удалим аномальные значения, превышающие максимально возможный показатель, а также удалим нулевые значения мощности - некоторые значения этого признака в таблице напоминают, скорее, телегу с конём, чем автомобиль:)"
   ]
  },
  {
   "cell_type": "code",
   "execution_count": 16,
   "metadata": {},
   "outputs": [],
   "source": [
    "data = data.drop(data[(data['Power'] > 2000) & (data['Power'] == 0)].index, axis=0)"
   ]
  },
  {
   "cell_type": "markdown",
   "metadata": {},
   "source": [
    "**Разберемся с неявными дубликатами:**"
   ]
  },
  {
   "cell_type": "code",
   "execution_count": 17,
   "metadata": {},
   "outputs": [
    {
     "data": {
      "text/plain": [
       "array(['petrol', 'gasoline', 'unknown', 'lpg', 'other', 'hybrid', 'cng',\n",
       "       'electric'], dtype=object)"
      ]
     },
     "execution_count": 17,
     "metadata": {},
     "output_type": "execute_result"
    }
   ],
   "source": [
    "data['FuelType'].unique()"
   ]
  },
  {
   "cell_type": "markdown",
   "metadata": {},
   "source": [
    "`FuelType` - значения `petrol` и `gasoline` по сути означают одно и то же, можно привести к одной форме."
   ]
  },
  {
   "cell_type": "code",
   "execution_count": 18,
   "metadata": {},
   "outputs": [],
   "source": [
    "data['FuelType'] = data['FuelType'].replace('gasoline', 'petrol')"
   ]
  },
  {
   "cell_type": "code",
   "execution_count": 19,
   "metadata": {},
   "outputs": [
    {
     "data": {
      "image/png": "[encoded data removed]",
      "text/plain": [
       "<Figure size 864x720 with 1 Axes>"
      ]
     },
     "metadata": {
      "needs_background": "light"
     },
     "output_type": "display_data"
    },
    {
     "data": {
      "image/png": "[encoded data removed]",
      "text/plain": [
       "<Figure size 864x720 with 1 Axes>"
      ]
     },
     "metadata": {},
     "output_type": "display_data"
    },
    {
     "data": {
      "text/html": [
       "<div>\n",
       "<style scoped>\n",
       "    .dataframe tbody tr th:only-of-type {\n",
       "        vertical-align: middle;\n",
       "    }\n",
       "\n",
       "    .dataframe tbody tr th {\n",
       "        vertical-align: top;\n",
       "    }\n",
       "\n",
       "    .dataframe thead th {\n",
       "        text-align: right;\n",
       "    }\n",
       "</style>\n",
       "<table border=\"1\" class=\"dataframe\">\n",
       "  <thead>\n",
       "    <tr style=\"text-align: right;\">\n",
       "      <th></th>\n",
       "      <th>Model</th>\n",
       "      <th>Count</th>\n",
       "    </tr>\n",
       "  </thead>\n",
       "  <tbody>\n",
       "    <tr>\n",
       "      <th>0</th>\n",
       "      <td>other</td>\n",
       "      <td>22403</td>\n",
       "    </tr>\n",
       "    <tr>\n",
       "      <th>1</th>\n",
       "      <td>golf</td>\n",
       "      <td>22206</td>\n",
       "    </tr>\n",
       "    <tr>\n",
       "      <th>2</th>\n",
       "      <td>unknown</td>\n",
       "      <td>16381</td>\n",
       "    </tr>\n",
       "    <tr>\n",
       "      <th>3</th>\n",
       "      <td>3er</td>\n",
       "      <td>16193</td>\n",
       "    </tr>\n",
       "    <tr>\n",
       "      <th>4</th>\n",
       "      <td>polo</td>\n",
       "      <td>9932</td>\n",
       "    </tr>\n",
       "    <tr>\n",
       "      <th>...</th>\n",
       "      <td>...</td>\n",
       "      <td>...</td>\n",
       "    </tr>\n",
       "    <tr>\n",
       "      <th>246</th>\n",
       "      <td>kalina</td>\n",
       "      <td>5</td>\n",
       "    </tr>\n",
       "    <tr>\n",
       "      <th>247</th>\n",
       "      <td>serie_3</td>\n",
       "      <td>4</td>\n",
       "    </tr>\n",
       "    <tr>\n",
       "      <th>248</th>\n",
       "      <td>rangerover</td>\n",
       "      <td>3</td>\n",
       "    </tr>\n",
       "    <tr>\n",
       "      <th>249</th>\n",
       "      <td>serie_1</td>\n",
       "      <td>2</td>\n",
       "    </tr>\n",
       "    <tr>\n",
       "      <th>250</th>\n",
       "      <td>range_rover_evoque</td>\n",
       "      <td>1</td>\n",
       "    </tr>\n",
       "  </tbody>\n",
       "</table>\n",
       "<p>251 rows × 2 columns</p>\n",
       "</div>"
      ],
      "text/plain": [
       "                  Model  Count\n",
       "0                 other  22403\n",
       "1                  golf  22206\n",
       "2               unknown  16381\n",
       "3                   3er  16193\n",
       "4                  polo   9932\n",
       "..                  ...    ...\n",
       "246              kalina      5\n",
       "247             serie_3      4\n",
       "248          rangerover      3\n",
       "249             serie_1      2\n",
       "250  range_rover_evoque      1\n",
       "\n",
       "[251 rows x 2 columns]"
      ]
     },
     "metadata": {},
     "output_type": "display_data"
    },
    {
     "data": {
      "image/png": "[encoded data removed]",
      "text/plain": [
       "<Figure size 864x720 with 1 Axes>"
      ]
     },
     "metadata": {
      "needs_background": "light"
     },
     "output_type": "display_data"
    },
    {
     "data": {
      "text/html": [
       "<div>\n",
       "<style scoped>\n",
       "    .dataframe tbody tr th:only-of-type {\n",
       "        vertical-align: middle;\n",
       "    }\n",
       "\n",
       "    .dataframe tbody tr th {\n",
       "        vertical-align: top;\n",
       "    }\n",
       "\n",
       "    .dataframe thead th {\n",
       "        text-align: right;\n",
       "    }\n",
       "</style>\n",
       "<table border=\"1\" class=\"dataframe\">\n",
       "  <thead>\n",
       "    <tr style=\"text-align: right;\">\n",
       "      <th></th>\n",
       "      <th>Brand</th>\n",
       "      <th>Count</th>\n",
       "    </tr>\n",
       "  </thead>\n",
       "  <tbody>\n",
       "    <tr>\n",
       "      <th>0</th>\n",
       "      <td>volkswagen</td>\n",
       "      <td>60413</td>\n",
       "    </tr>\n",
       "    <tr>\n",
       "      <th>1</th>\n",
       "      <td>opel</td>\n",
       "      <td>32154</td>\n",
       "    </tr>\n",
       "    <tr>\n",
       "      <th>2</th>\n",
       "      <td>bmw</td>\n",
       "      <td>30661</td>\n",
       "    </tr>\n",
       "    <tr>\n",
       "      <th>3</th>\n",
       "      <td>mercedes_benz</td>\n",
       "      <td>27712</td>\n",
       "    </tr>\n",
       "    <tr>\n",
       "      <th>4</th>\n",
       "      <td>audi</td>\n",
       "      <td>24539</td>\n",
       "    </tr>\n",
       "    <tr>\n",
       "      <th>5</th>\n",
       "      <td>ford</td>\n",
       "      <td>21447</td>\n",
       "    </tr>\n",
       "    <tr>\n",
       "      <th>6</th>\n",
       "      <td>renault</td>\n",
       "      <td>14854</td>\n",
       "    </tr>\n",
       "    <tr>\n",
       "      <th>7</th>\n",
       "      <td>peugeot</td>\n",
       "      <td>9454</td>\n",
       "    </tr>\n",
       "    <tr>\n",
       "      <th>8</th>\n",
       "      <td>fiat</td>\n",
       "      <td>8222</td>\n",
       "    </tr>\n",
       "    <tr>\n",
       "      <th>9</th>\n",
       "      <td>seat</td>\n",
       "      <td>5834</td>\n",
       "    </tr>\n",
       "    <tr>\n",
       "      <th>10</th>\n",
       "      <td>mazda</td>\n",
       "      <td>4905</td>\n",
       "    </tr>\n",
       "    <tr>\n",
       "      <th>11</th>\n",
       "      <td>skoda</td>\n",
       "      <td>4833</td>\n",
       "    </tr>\n",
       "    <tr>\n",
       "      <th>12</th>\n",
       "      <td>smart</td>\n",
       "      <td>4618</td>\n",
       "    </tr>\n",
       "    <tr>\n",
       "      <th>13</th>\n",
       "      <td>citroen</td>\n",
       "      <td>4581</td>\n",
       "    </tr>\n",
       "    <tr>\n",
       "      <th>14</th>\n",
       "      <td>nissan</td>\n",
       "      <td>4306</td>\n",
       "    </tr>\n",
       "    <tr>\n",
       "      <th>15</th>\n",
       "      <td>toyota</td>\n",
       "      <td>4111</td>\n",
       "    </tr>\n",
       "    <tr>\n",
       "      <th>16</th>\n",
       "      <td>hyundai</td>\n",
       "      <td>3164</td>\n",
       "    </tr>\n",
       "    <tr>\n",
       "      <th>17</th>\n",
       "      <td>volvo</td>\n",
       "      <td>2844</td>\n",
       "    </tr>\n",
       "    <tr>\n",
       "      <th>18</th>\n",
       "      <td>sonstige_autos</td>\n",
       "      <td>2772</td>\n",
       "    </tr>\n",
       "    <tr>\n",
       "      <th>19</th>\n",
       "      <td>mini</td>\n",
       "      <td>2767</td>\n",
       "    </tr>\n",
       "    <tr>\n",
       "      <th>20</th>\n",
       "      <td>mitsubishi</td>\n",
       "      <td>2702</td>\n",
       "    </tr>\n",
       "    <tr>\n",
       "      <th>21</th>\n",
       "      <td>honda</td>\n",
       "      <td>2513</td>\n",
       "    </tr>\n",
       "    <tr>\n",
       "      <th>22</th>\n",
       "      <td>kia</td>\n",
       "      <td>2150</td>\n",
       "    </tr>\n",
       "    <tr>\n",
       "      <th>23</th>\n",
       "      <td>suzuki</td>\n",
       "      <td>2088</td>\n",
       "    </tr>\n",
       "    <tr>\n",
       "      <th>24</th>\n",
       "      <td>alfa_romeo</td>\n",
       "      <td>2065</td>\n",
       "    </tr>\n",
       "    <tr>\n",
       "      <th>25</th>\n",
       "      <td>chevrolet</td>\n",
       "      <td>1602</td>\n",
       "    </tr>\n",
       "    <tr>\n",
       "      <th>26</th>\n",
       "      <td>chrysler</td>\n",
       "      <td>1307</td>\n",
       "    </tr>\n",
       "    <tr>\n",
       "      <th>27</th>\n",
       "      <td>dacia</td>\n",
       "      <td>805</td>\n",
       "    </tr>\n",
       "    <tr>\n",
       "      <th>28</th>\n",
       "      <td>daihatsu</td>\n",
       "      <td>726</td>\n",
       "    </tr>\n",
       "    <tr>\n",
       "      <th>29</th>\n",
       "      <td>subaru</td>\n",
       "      <td>705</td>\n",
       "    </tr>\n",
       "    <tr>\n",
       "      <th>30</th>\n",
       "      <td>porsche</td>\n",
       "      <td>688</td>\n",
       "    </tr>\n",
       "    <tr>\n",
       "      <th>31</th>\n",
       "      <td>jeep</td>\n",
       "      <td>616</td>\n",
       "    </tr>\n",
       "    <tr>\n",
       "      <th>32</th>\n",
       "      <td>trabant</td>\n",
       "      <td>542</td>\n",
       "    </tr>\n",
       "    <tr>\n",
       "      <th>33</th>\n",
       "      <td>land_rover</td>\n",
       "      <td>499</td>\n",
       "    </tr>\n",
       "    <tr>\n",
       "      <th>34</th>\n",
       "      <td>daewoo</td>\n",
       "      <td>479</td>\n",
       "    </tr>\n",
       "    <tr>\n",
       "      <th>35</th>\n",
       "      <td>jaguar</td>\n",
       "      <td>474</td>\n",
       "    </tr>\n",
       "    <tr>\n",
       "      <th>36</th>\n",
       "      <td>saab</td>\n",
       "      <td>474</td>\n",
       "    </tr>\n",
       "    <tr>\n",
       "      <th>37</th>\n",
       "      <td>rover</td>\n",
       "      <td>424</td>\n",
       "    </tr>\n",
       "    <tr>\n",
       "      <th>38</th>\n",
       "      <td>lancia</td>\n",
       "      <td>421</td>\n",
       "    </tr>\n",
       "    <tr>\n",
       "      <th>39</th>\n",
       "      <td>lada</td>\n",
       "      <td>204</td>\n",
       "    </tr>\n",
       "  </tbody>\n",
       "</table>\n",
       "</div>"
      ],
      "text/plain": [
       "             Brand  Count\n",
       "0       volkswagen  60413\n",
       "1             opel  32154\n",
       "2              bmw  30661\n",
       "3    mercedes_benz  27712\n",
       "4             audi  24539\n",
       "5             ford  21447\n",
       "6          renault  14854\n",
       "7          peugeot   9454\n",
       "8             fiat   8222\n",
       "9             seat   5834\n",
       "10           mazda   4905\n",
       "11           skoda   4833\n",
       "12           smart   4618\n",
       "13         citroen   4581\n",
       "14          nissan   4306\n",
       "15          toyota   4111\n",
       "16         hyundai   3164\n",
       "17           volvo   2844\n",
       "18  sonstige_autos   2772\n",
       "19            mini   2767\n",
       "20      mitsubishi   2702\n",
       "21           honda   2513\n",
       "22             kia   2150\n",
       "23          suzuki   2088\n",
       "24      alfa_romeo   2065\n",
       "25       chevrolet   1602\n",
       "26        chrysler   1307\n",
       "27           dacia    805\n",
       "28        daihatsu    726\n",
       "29          subaru    705\n",
       "30         porsche    688\n",
       "31            jeep    616\n",
       "32         trabant    542\n",
       "33      land_rover    499\n",
       "34          daewoo    479\n",
       "35          jaguar    474\n",
       "36            saab    474\n",
       "37           rover    424\n",
       "38          lancia    421\n",
       "39            lada    204"
      ]
     },
     "metadata": {},
     "output_type": "display_data"
    },
    {
     "data": {
      "image/png": "[encoded data removed]",
      "text/plain": [
       "<Figure size 864x720 with 1 Axes>"
      ]
     },
     "metadata": {},
     "output_type": "display_data"
    }
   ],
   "source": [
    "categorical_columns = data.select_dtypes(include=['object']).columns.tolist()\n",
    "\n",
    "for column in categorical_columns:\n",
    "    unique_values = data[column].nunique()\n",
    "    if column not in ['Model', 'Brand']:\n",
    "        if unique_values <= 5:\n",
    "            # Создаем круговую диаграмму для процентов каждой категории\n",
    "            plt.figure(figsize=(12, 10))\n",
    "            data[column].value_counts().plot(kind='pie', autopct='%1.1f%%', startangle=140)\n",
    "            plt.title(f'Distribution of {column}')\n",
    "            plt.axis('equal')  # Устанавливаем соотношение сторон для круговой диаграммы, чтобы она была круглой\n",
    "            plt.show()\n",
    "        else:\n",
    "            # Создаем гистограмму для распределения значений признака по оси Y\n",
    "            plt.figure(figsize=(12, 10))\n",
    "            sns.histplot(data=data, x=column)\n",
    "            plt.title(f'Distribution of {column}')\n",
    "            plt.xlabel(column)\n",
    "            plt.ylabel('Count')\n",
    "            plt.xticks(rotation=45)  # Поворачиваем подписи по оси X, чтобы они не перекрывались\n",
    "            plt.show()\n",
    "    else:\n",
    "        # Построение сводной таблицы для столбцов 'model' и 'brand'\n",
    "        pivot_table = data[[column]].value_counts().reset_index()\n",
    "        pivot_table.columns = [column, 'Count']\n",
    "        display(pivot_table)\n"
   ]
  },
  {
   "cell_type": "markdown",
   "metadata": {},
   "source": [
    "**Подготовка выборок для обучения моделей:**"
   ]
  },
  {
   "cell_type": "code",
   "execution_count": 20,
   "metadata": {},
   "outputs": [],
   "source": [
    "features = data.drop(['Price'], axis=1)\n",
    "target = data['Price']"
   ]
  },
  {
   "cell_type": "markdown",
   "metadata": {},
   "source": [
    "**Будем использовать функцию train_test_split(), чтобы разделить исходные данные (features и target) на обучающую выборку (features_train и target_train) и еще одну выборку, которую мы назовем тестовой (features_test и target_test).**"
   ]
  },
  {
   "cell_type": "code",
   "execution_count": 21,
   "metadata": {},
   "outputs": [],
   "source": [
    "features_train, features_test, target_train, target_test = train_test_split(features, \n",
    "                                                                            target, \n",
    "                                                                            test_size=0.2, \n",
    "                                                                            random_state=12345\n",
    "                                                                           ) "
   ]
  },
  {
   "cell_type": "code",
   "execution_count": 22,
   "metadata": {},
   "outputs": [
    {
     "name": "stdout",
     "output_type": "stream",
     "text": [
      "Обучающая выборка:\n",
      "(236540, 9)\n",
      "(236540,)\n",
      "\n",
      "Тестовая выборка:\n",
      "(59135, 9)\n",
      "(59135,)\n"
     ]
    }
   ],
   "source": [
    "print(\"Обучающая выборка:\")\n",
    "print(features_train.shape)\n",
    "print(target_train.shape)\n",
    "\n",
    "print(\"\\nТестовая выборка:\")\n",
    "print(features_test.shape)\n",
    "print(target_test.shape)"
   ]
  },
  {
   "cell_type": "markdown",
   "metadata": {},
   "source": [
    "### Вывод: "
   ]
  },
  {
   "cell_type": "markdown",
   "metadata": {},
   "source": [
    "- Изучили данные;\n",
    "- Обработали пропущенные значения и обосновали;\n",
    "- Обработали аномалии в столбцах;\n",
    "- Удалили неинформативные признаки;\n",
    "- Подготовили выборки для обучения моделей."
   ]
  },
  {
   "cell_type": "markdown",
   "metadata": {},
   "source": [
    "## Обучение моделей"
   ]
  },
  {
   "cell_type": "markdown",
   "metadata": {},
   "source": [
    "Модель случайного леса (`Random Forest`) хорошо подходит для задачи прогнозирования цен на автомобили по следующим причинам:\n",
    "\n",
    "- Устойчивость к переобучению: Случайный лес состоит из множества решающих деревьев, каждое из которых обучается на случайной подвыборке данных. Это помогает снизить переобучение и повысить обобщающую способность модели.\n",
    "\n",
    "- Обработка нелинейных зависимостей: Случайный лес способен обрабатывать сложные нелинейные взаимосвязи между признаками и целевой переменной.\n",
    "\n",
    "- Стабильность: Случайный лес устойчив к выбросам и шуму в данных.\n",
    "\n",
    "- Относительно небольшие настройки гиперпараметров: В общем случае, модель случайного леса не требует сложной настройки гиперпараметров для достижения хороших результатов, что упрощает процесс моделирования.\n",
    "\n",
    "В целом, случайный лес является мощным алгоритмом машинного обучения, который обычно демонстрирует хорошую производительность на разнообразных наборах данных, включая задачи прогнозирования цен."
   ]
  },
  {
   "cell_type": "code",
   "execution_count": 23,
   "metadata": {},
   "outputs": [],
   "source": [
    "# Создание OrdinalEncoder с настройками для обработки неизвестных значений\n",
    "encoder = OrdinalEncoder(handle_unknown='use_encoded_value', unknown_value=-1)\n",
    "\n",
    "# Преобразование категориальных признаков в числовые для всех выборок\n",
    "features_train_encoded = features_train.copy()\n",
    "features_test_encoded = features_test.copy()\n",
    "\n",
    "for col in categorical_columns:\n",
    "    features_train_encoded[col] = encoder.fit_transform(features_train[[col]])\n",
    "    features_test_encoded[col] = encoder.transform(features_test[[col]])"
   ]
  },
  {
   "cell_type": "markdown",
   "metadata": {},
   "source": [
    "**Добавим гиперпараметры:**"
   ]
  },
  {
   "cell_type": "code",
   "execution_count": 24,
   "metadata": {
    "scrolled": true
   },
   "outputs": [
    {
     "name": "stdout",
     "output_type": "stream",
     "text": [
      "Fitting 3 folds for each of 16 candidates, totalling 48 fits\n",
      "[CV] END max_depth=None, min_samples_leaf=1, min_samples_split=2, n_estimators=50; total time=  20.6s\n",
      "[CV] END max_depth=None, min_samples_leaf=1, min_samples_split=2, n_estimators=50; total time=  20.5s\n",
      "[CV] END max_depth=None, min_samples_leaf=1, min_samples_split=2, n_estimators=50; total time=  20.4s\n",
      "[CV] END max_depth=None, min_samples_leaf=1, min_samples_split=2, n_estimators=100; total time=  42.5s\n",
      "[CV] END max_depth=None, min_samples_leaf=1, min_samples_split=2, n_estimators=100; total time=  43.0s\n",
      "[CV] END max_depth=None, min_samples_leaf=1, min_samples_split=2, n_estimators=100; total time=  40.1s\n",
      "[CV] END max_depth=None, min_samples_leaf=1, min_samples_split=5, n_estimators=50; total time=  18.2s\n",
      "[CV] END max_depth=None, min_samples_leaf=1, min_samples_split=5, n_estimators=50; total time=  18.5s\n",
      "[CV] END max_depth=None, min_samples_leaf=1, min_samples_split=5, n_estimators=50; total time=  18.2s\n",
      "[CV] END max_depth=None, min_samples_leaf=1, min_samples_split=5, n_estimators=100; total time=  36.0s\n",
      "[CV] END max_depth=None, min_samples_leaf=1, min_samples_split=5, n_estimators=100; total time=  36.1s\n",
      "[CV] END max_depth=None, min_samples_leaf=1, min_samples_split=5, n_estimators=100; total time=  36.1s\n",
      "[CV] END max_depth=None, min_samples_leaf=2, min_samples_split=2, n_estimators=50; total time=  17.4s\n",
      "[CV] END max_depth=None, min_samples_leaf=2, min_samples_split=2, n_estimators=50; total time=  17.2s\n",
      "[CV] END max_depth=None, min_samples_leaf=2, min_samples_split=2, n_estimators=50; total time=  17.2s\n",
      "[CV] END max_depth=None, min_samples_leaf=2, min_samples_split=2, n_estimators=100; total time=  34.3s\n",
      "[CV] END max_depth=None, min_samples_leaf=2, min_samples_split=2, n_estimators=100; total time=  34.4s\n",
      "[CV] END max_depth=None, min_samples_leaf=2, min_samples_split=2, n_estimators=100; total time=  33.9s\n",
      "[CV] END max_depth=None, min_samples_leaf=2, min_samples_split=5, n_estimators=50; total time=  17.0s\n",
      "[CV] END max_depth=None, min_samples_leaf=2, min_samples_split=5, n_estimators=50; total time=  16.7s\n",
      "[CV] END max_depth=None, min_samples_leaf=2, min_samples_split=5, n_estimators=50; total time=  16.6s\n",
      "[CV] END max_depth=None, min_samples_leaf=2, min_samples_split=5, n_estimators=100; total time=  33.5s\n",
      "[CV] END max_depth=None, min_samples_leaf=2, min_samples_split=5, n_estimators=100; total time=  33.5s\n",
      "[CV] END max_depth=None, min_samples_leaf=2, min_samples_split=5, n_estimators=100; total time=  34.3s\n",
      "[CV] END max_depth=10, min_samples_leaf=1, min_samples_split=2, n_estimators=50; total time=   9.5s\n",
      "[CV] END max_depth=10, min_samples_leaf=1, min_samples_split=2, n_estimators=50; total time=   9.5s\n",
      "[CV] END max_depth=10, min_samples_leaf=1, min_samples_split=2, n_estimators=50; total time=   9.5s\n",
      "[CV] END max_depth=10, min_samples_leaf=1, min_samples_split=2, n_estimators=100; total time=  18.9s\n",
      "[CV] END max_depth=10, min_samples_leaf=1, min_samples_split=2, n_estimators=100; total time=  19.0s\n",
      "[CV] END max_depth=10, min_samples_leaf=1, min_samples_split=2, n_estimators=100; total time=  18.8s\n",
      "[CV] END max_depth=10, min_samples_leaf=1, min_samples_split=5, n_estimators=50; total time=   9.5s\n",
      "[CV] END max_depth=10, min_samples_leaf=1, min_samples_split=5, n_estimators=50; total time=   9.4s\n",
      "[CV] END max_depth=10, min_samples_leaf=1, min_samples_split=5, n_estimators=50; total time=   9.3s\n",
      "[CV] END max_depth=10, min_samples_leaf=1, min_samples_split=5, n_estimators=100; total time=  18.5s\n",
      "[CV] END max_depth=10, min_samples_leaf=1, min_samples_split=5, n_estimators=100; total time=  18.9s\n",
      "[CV] END max_depth=10, min_samples_leaf=1, min_samples_split=5, n_estimators=100; total time=  18.6s\n",
      "[CV] END max_depth=10, min_samples_leaf=2, min_samples_split=2, n_estimators=50; total time=   9.4s\n",
      "[CV] END max_depth=10, min_samples_leaf=2, min_samples_split=2, n_estimators=50; total time=   9.3s\n",
      "[CV] END max_depth=10, min_samples_leaf=2, min_samples_split=2, n_estimators=50; total time=   9.3s\n",
      "[CV] END max_depth=10, min_samples_leaf=2, min_samples_split=2, n_estimators=100; total time=  18.7s\n",
      "[CV] END max_depth=10, min_samples_leaf=2, min_samples_split=2, n_estimators=100; total time=  18.6s\n",
      "[CV] END max_depth=10, min_samples_leaf=2, min_samples_split=2, n_estimators=100; total time=  18.6s\n",
      "[CV] END max_depth=10, min_samples_leaf=2, min_samples_split=5, n_estimators=50; total time=   9.4s\n",
      "[CV] END max_depth=10, min_samples_leaf=2, min_samples_split=5, n_estimators=50; total time=   9.3s\n",
      "[CV] END max_depth=10, min_samples_leaf=2, min_samples_split=5, n_estimators=50; total time=   9.2s\n",
      "[CV] END max_depth=10, min_samples_leaf=2, min_samples_split=5, n_estimators=100; total time=  18.8s\n",
      "[CV] END max_depth=10, min_samples_leaf=2, min_samples_split=5, n_estimators=100; total time=  18.6s\n",
      "[CV] END max_depth=10, min_samples_leaf=2, min_samples_split=5, n_estimators=100; total time=  18.4s\n",
      "Время поиска лучших параметров: 1008.32 секунд\n",
      "Время обучения лучшей модели: 14.19 секунд\n",
      "Время предсказания на train: 0.92 секунд\n",
      "Оценка модели на кросс-валидации (best_score_): 2032.7375\n",
      "Лучшие параметры: {'max_depth': 10, 'min_samples_leaf': 1, 'min_samples_split': 2, 'n_estimators': 50}\n"
     ]
    }
   ],
   "source": [
    "# Определение гиперпараметров для настройки\n",
    "param_grid = {\n",
    "    'n_estimators': [50, 100],\n",
    "    'max_depth': [None, 10],\n",
    "    'min_samples_split': [2, 5],\n",
    "    'min_samples_leaf': [1, 2]\n",
    "}\n",
    "\n",
    "# Создание модели случайного леса\n",
    "rf_model = RandomForestRegressor(random_state=12345)\n",
    "\n",
    "# Определение метрики RMSE в качестве scorer\n",
    "scorer = make_scorer(mean_squared_error, squared=False)\n",
    "\n",
    "# Поиск оптимальных гиперпараметров с использованием RMSE в качестве метрики\n",
    "grid_search = GridSearchCV(estimator=rf_model, param_grid=param_grid, cv=3, n_jobs=-1, verbose=2, scoring=scorer)\n",
    "start_time = time.time()\n",
    "grid_search.fit(features_train_encoded, target_train)\n",
    "end_time = time.time()\n",
    "\n",
    "# Время поиска лучшей модели\n",
    "search_time = end_time - start_time\n",
    "print(\"Время поиска лучших параметров: {:.2f} секунд\".format(search_time))\n",
    "\n",
    "# Получение лучших параметров и лучшей модели\n",
    "best_params = grid_search.best_params_\n",
    "best_model = grid_search.best_estimator_\n",
    "\n",
    "# Обучение лучшей модели и замер времени\n",
    "start_time = time.time()\n",
    "best_model.fit(features_train_encoded, target_train)\n",
    "end_time = time.time()\n",
    "\n",
    "# Время обучения лучшей модели\n",
    "training_time_rf = end_time - start_time\n",
    "print(\"Время обучения лучшей модели: {:.2f} секунд\".format(training_time_rf))\n",
    "\n",
    "# Измерение времени предсказания с помощью лучшей модели на train\n",
    "start_time = time.time()\n",
    "predictions_train = best_model.predict(features_train_encoded)\n",
    "end_time = time.time()\n",
    "\n",
    "# Время предсказания с помощью лучшей модели \n",
    "prediction_time_rf_train = end_time - start_time\n",
    "print(\"Время предсказания на train: {:.2f} секунд\".format(prediction_time_rf_train))\n",
    "\n",
    "# Оценка модели на кросс-валидации\n",
    "cv_score_rf = grid_search.best_score_\n",
    "print(\"Оценка модели на кросс-валидации (best_score_): {:.4f}\".format(cv_score_rf))\n",
    "\n",
    "# Вывод лучших параметров\n",
    "print(\"Лучшие параметры:\", best_params)"
   ]
  },
  {
   "cell_type": "markdown",
   "metadata": {},
   "source": [
    "**Модель `LightGBM`:**"
   ]
  },
  {
   "cell_type": "markdown",
   "metadata": {},
   "source": [
    "**Добавим гиперпараметры:**"
   ]
  },
  {
   "cell_type": "code",
   "execution_count": 25,
   "metadata": {
    "scrolled": true
   },
   "outputs": [
    {
     "name": "stdout",
     "output_type": "stream",
     "text": [
      "Fitting 3 folds for each of 10 candidates, totalling 30 fits\n",
      "[CV] END colsample_bytree=0.9, learning_rate=0.1, max_depth=5, n_estimators=200, num_leaves=50, subsample=0.8; total time=10.2min\n",
      "[CV] END colsample_bytree=0.9, learning_rate=0.1, max_depth=5, n_estimators=200, num_leaves=50, subsample=0.8; total time=10.4min\n",
      "[CV] END colsample_bytree=0.9, learning_rate=0.1, max_depth=5, n_estimators=200, num_leaves=50, subsample=0.8; total time= 7.4min\n",
      "[CV] END colsample_bytree=0.9, learning_rate=0.1, max_depth=5, n_estimators=100, num_leaves=31, subsample=0.8; total time=  35.7s\n",
      "[CV] END colsample_bytree=0.9, learning_rate=0.1, max_depth=5, n_estimators=100, num_leaves=31, subsample=0.8; total time= 2.0min\n",
      "[CV] END colsample_bytree=0.9, learning_rate=0.1, max_depth=5, n_estimators=100, num_leaves=31, subsample=0.8; total time= 2.6min\n",
      "[CV] END colsample_bytree=0.8, learning_rate=0.05, max_depth=5, n_estimators=200, num_leaves=31, subsample=0.8; total time= 2.4min\n",
      "[CV] END colsample_bytree=0.8, learning_rate=0.05, max_depth=5, n_estimators=200, num_leaves=31, subsample=0.8; total time= 1.5min\n",
      "[CV] END colsample_bytree=0.8, learning_rate=0.05, max_depth=5, n_estimators=200, num_leaves=31, subsample=0.8; total time= 1.0min\n",
      "[CV] END colsample_bytree=0.9, learning_rate=0.1, max_depth=5, n_estimators=100, num_leaves=50, subsample=0.9; total time=  30.9s\n",
      "[CV] END colsample_bytree=0.9, learning_rate=0.1, max_depth=5, n_estimators=100, num_leaves=50, subsample=0.9; total time=  29.3s\n",
      "[CV] END colsample_bytree=0.9, learning_rate=0.1, max_depth=5, n_estimators=100, num_leaves=50, subsample=0.9; total time=  30.7s\n",
      "[CV] END colsample_bytree=0.9, learning_rate=0.1, max_depth=5, n_estimators=200, num_leaves=31, subsample=0.9; total time= 1.5min\n",
      "[CV] END colsample_bytree=0.9, learning_rate=0.1, max_depth=5, n_estimators=200, num_leaves=31, subsample=0.9; total time= 6.4min\n",
      "[CV] END colsample_bytree=0.9, learning_rate=0.1, max_depth=5, n_estimators=200, num_leaves=31, subsample=0.9; total time= 2.0min\n",
      "[CV] END colsample_bytree=0.8, learning_rate=0.1, max_depth=10, n_estimators=100, num_leaves=31, subsample=0.9; total time=  43.1s\n",
      "[CV] END colsample_bytree=0.8, learning_rate=0.1, max_depth=10, n_estimators=100, num_leaves=31, subsample=0.9; total time=  42.1s\n",
      "[CV] END colsample_bytree=0.8, learning_rate=0.1, max_depth=10, n_estimators=100, num_leaves=31, subsample=0.9; total time=  52.8s\n",
      "[CV] END colsample_bytree=0.8, learning_rate=0.1, max_depth=10, n_estimators=200, num_leaves=50, subsample=0.8; total time= 3.8min\n",
      "[CV] END colsample_bytree=0.8, learning_rate=0.1, max_depth=10, n_estimators=200, num_leaves=50, subsample=0.8; total time= 1.4min\n",
      "[CV] END colsample_bytree=0.8, learning_rate=0.1, max_depth=10, n_estimators=200, num_leaves=50, subsample=0.8; total time= 2.5min\n",
      "[CV] END colsample_bytree=0.9, learning_rate=0.05, max_depth=10, n_estimators=200, num_leaves=31, subsample=0.9; total time= 1.1min\n",
      "[CV] END colsample_bytree=0.9, learning_rate=0.05, max_depth=10, n_estimators=200, num_leaves=31, subsample=0.9; total time= 1.1min\n",
      "[CV] END colsample_bytree=0.9, learning_rate=0.05, max_depth=10, n_estimators=200, num_leaves=31, subsample=0.9; total time= 2.4min\n",
      "[CV] END colsample_bytree=0.9, learning_rate=0.05, max_depth=10, n_estimators=100, num_leaves=50, subsample=0.9; total time= 1.2min\n",
      "[CV] END colsample_bytree=0.9, learning_rate=0.05, max_depth=10, n_estimators=100, num_leaves=50, subsample=0.9; total time= 1.3min\n",
      "[CV] END colsample_bytree=0.9, learning_rate=0.05, max_depth=10, n_estimators=100, num_leaves=50, subsample=0.9; total time= 2.8min\n",
      "[CV] END colsample_bytree=0.8, learning_rate=0.05, max_depth=5, n_estimators=200, num_leaves=50, subsample=0.8; total time= 1.1min\n",
      "[CV] END colsample_bytree=0.8, learning_rate=0.05, max_depth=5, n_estimators=200, num_leaves=50, subsample=0.8; total time= 1.8min\n",
      "[CV] END colsample_bytree=0.8, learning_rate=0.05, max_depth=5, n_estimators=200, num_leaves=50, subsample=0.8; total time= 2.9min\n",
      "Время поиска лучшей модели: 4556.90 секунд\n",
      "Лучшие гиперпараметры: {'subsample': 0.9, 'num_leaves': 50, 'n_estimators': 100, 'max_depth': 5, 'learning_rate': 0.1, 'colsample_bytree': 0.9}\n",
      "Время обучения лучшей модели: 46.89 секунд\n",
      "Время предсказания на train: 1.53 секунд\n",
      "Оценка модели на кросс-валидации (best_score_): 1897.0878\n",
      "Лучшие параметры: {'subsample': 0.9, 'num_leaves': 50, 'n_estimators': 100, 'max_depth': 5, 'learning_rate': 0.1, 'colsample_bytree': 0.9}\n"
     ]
    }
   ],
   "source": [
    "# Определение гиперпараметров для подбора\n",
    "param_grid = {\n",
    "    'n_estimators': [100, 200],\n",
    "    'learning_rate': [0.05, 0.1],\n",
    "    'max_depth': [5, 10],\n",
    "    'num_leaves': [31, 50],\n",
    "    'subsample': [0.8, 0.9],\n",
    "    'colsample_bytree': [0.8, 0.9]\n",
    "}\n",
    "\n",
    "# Создание модели\n",
    "lgb_model = LGBMRegressor(random_state=12345)\n",
    "\n",
    "\n",
    "# Определение метрики RMSE в качестве scorer\n",
    "scorer = make_scorer(mean_squared_error, squared=False)\n",
    "\n",
    "# Поиск лучших параметров\n",
    "start_time = time.time()\n",
    "random_search = RandomizedSearchCV(estimator=lgb_model, param_distributions=param_grid, n_iter=10, cv=3, random_state=12345, verbose=2, \n",
    "                                   n_jobs=-1, scoring=scorer)\n",
    "random_search.fit(features_train_encoded, target_train)\n",
    "end_time = time.time()\n",
    "\n",
    "# Время обучения\n",
    "training_time = end_time - start_time\n",
    "print(\"Время поиска лучшей модели: {:.2f} секунд\".format(training_time))\n",
    "\n",
    "# Лучшие параметры\n",
    "best_params = random_search.best_params_\n",
    "print(\"Лучшие гиперпараметры:\", best_params)\n",
    "\n",
    "# Получение лучшей модели\n",
    "best_model = random_search.best_estimator_\n",
    "\n",
    "# Обучение лучшей модели и замер времени\n",
    "start_time = time.time()\n",
    "best_model.fit(features_train_encoded, target_train)\n",
    "end_time = time.time()\n",
    "\n",
    "# Время обучения лучшей модели\n",
    "training_time_lgb = end_time - start_time\n",
    "print(\"Время обучения лучшей модели: {:.2f} секунд\".format(training_time_lgb))\n",
    "\n",
    "# Измерение времени предсказания с помощью лучшей модели на train\n",
    "start_time = time.time()\n",
    "predictions_train = best_model.predict(features_train_encoded)\n",
    "end_time = time.time()\n",
    "\n",
    "# Время предсказания с помощью лучшей модели \n",
    "prediction_time_lgb_train = end_time - start_time\n",
    "print(\"Время предсказания на train: {:.2f} секунд\".format(prediction_time_lgb_train))\n",
    "\n",
    "# Оценка модели на кросс-валидации\n",
    "cv_score_lgb = random_search.best_score_\n",
    "print(\"Оценка модели на кросс-валидации (best_score_): {:.4f}\".format(cv_score_lgb))\n",
    "\n",
    "# Вывод лучших параметров\n",
    "print(\"Лучшие параметры:\", best_params)"
   ]
  },
  {
   "cell_type": "markdown",
   "metadata": {},
   "source": [
    "### Вывод:"
   ]
  },
  {
   "cell_type": "markdown",
   "metadata": {},
   "source": [
    "Обучили разные модели, одна из которых — `LightGBM`, вторая - `RandomForest`. Для каждой модели подобрали лучшие гиперпараметры, проверили их качество."
   ]
  },
  {
   "cell_type": "markdown",
   "metadata": {},
   "source": [
    "## Анализ моделей"
   ]
  },
  {
   "cell_type": "markdown",
   "metadata": {},
   "source": [
    "**Проанализируем время обучения, время предсказания и качество моделей, выберем лучшую для заказчика:**"
   ]
  },
  {
   "cell_type": "markdown",
   "metadata": {},
   "source": [
    "Лучшие гиперпараметры для `RandomForest`: {'max_depth': None, 'min_samples_leaf': 2, 'min_samples_split': 5, 'n_estimators': 100}"
   ]
  },
  {
   "cell_type": "markdown",
   "metadata": {},
   "source": [
    "Лучшие гиперпараметры для `LightGBM`: {'subsample': 0.8, 'num_leaves': 50, 'n_estimators': 200, 'max_depth': 10, 'learning_rate': 0.1, 'colsample_bytree': 0.8}"
   ]
  },
  {
   "cell_type": "markdown",
   "metadata": {},
   "source": [
    "**Для сравнения моделей создадим DataFrame, в который войдут время обучения, время предсказания, качество лучших моделей:**"
   ]
  },
  {
   "cell_type": "code",
   "execution_count": 26,
   "metadata": {},
   "outputs": [
    {
     "data": {
      "text/html": [
       "<div>\n",
       "<style scoped>\n",
       "    .dataframe tbody tr th:only-of-type {\n",
       "        vertical-align: middle;\n",
       "    }\n",
       "\n",
       "    .dataframe tbody tr th {\n",
       "        vertical-align: top;\n",
       "    }\n",
       "\n",
       "    .dataframe thead th {\n",
       "        text-align: right;\n",
       "    }\n",
       "</style>\n",
       "<table border=\"1\" class=\"dataframe\">\n",
       "  <thead>\n",
       "    <tr style=\"text-align: right;\">\n",
       "      <th></th>\n",
       "      <th>Модель</th>\n",
       "      <th>Время обучения (сек)</th>\n",
       "      <th>Время предсказания с помощью кросс-валидации (сек)</th>\n",
       "      <th>RMSE</th>\n",
       "    </tr>\n",
       "  </thead>\n",
       "  <tbody>\n",
       "    <tr>\n",
       "      <th>0</th>\n",
       "      <td>RandomForest</td>\n",
       "      <td>14.187944</td>\n",
       "      <td>0.922388</td>\n",
       "      <td>2032.737514</td>\n",
       "    </tr>\n",
       "    <tr>\n",
       "      <th>1</th>\n",
       "      <td>LightGBM</td>\n",
       "      <td>46.885429</td>\n",
       "      <td>1.531545</td>\n",
       "      <td>1897.087820</td>\n",
       "    </tr>\n",
       "  </tbody>\n",
       "</table>\n",
       "</div>"
      ],
      "text/plain": [
       "         Модель  Время обучения (сек)  \\\n",
       "0  RandomForest             14.187944   \n",
       "1      LightGBM             46.885429   \n",
       "\n",
       "   Время предсказания с помощью кросс-валидации (сек)         RMSE  \n",
       "0                                           0.922388   2032.737514  \n",
       "1                                           1.531545   1897.087820  "
      ]
     },
     "execution_count": 26,
     "metadata": {},
     "output_type": "execute_result"
    }
   ],
   "source": [
    "# Создание DataFrame\n",
    "data_result = {\n",
    "    'Модель': ['RandomForest', 'LightGBM'],\n",
    "    'Время обучения (сек)': [training_time_rf, training_time_lgb],\n",
    "    'Время предсказания с помощью кросс-валидации (сек)': [prediction_time_rf_train, prediction_time_lgb_train],\n",
    "    'RMSE': [cv_score_rf, cv_score_lgb]\n",
    "}\n",
    "\n",
    "result = pd.DataFrame(data_result)\n",
    "\n",
    "\n",
    "# Вывод таблицы\n",
    "result"
   ]
  },
  {
   "cell_type": "markdown",
   "metadata": {},
   "source": [
    "Исходя из критериев, которые были важны заказчику (качество предсказания, время обучения модели и время предсказания модели), можно принять решение о выборе лучшей модели. В данном случае, по результатам предоставленных данных, можно провести следующий анализ:\n",
    "\n",
    "- Качество предсказания (RMSE):\n",
    "\n",
    "  - RandomForest: 2032.74\n",
    "  - LightGBM: 1897.09\n",
    "\n",
    "LightGBM демонстрирует немного лучшее качество предсказания по сравнению с RandomForest.\n",
    "\n",
    "- Время обучения модели:\n",
    "\n",
    "  - RandomForest: 14.19 сек.\n",
    "  - LightGBM: 46.89 сек.\n",
    "  \n",
    "RandomForest требует меньше времени на обучение по сравнению с LightGBM.\n",
    "\n",
    "- Время предсказания модели с помощью кросс-валидации:\n",
    "\n",
    "  - RandomForest: 0.92 сек.\n",
    "  - LightGBM: 1.53 сек.\n",
    "  \n",
    "RandomForest также демонстрирует меньшее время предсказания по сравнению с LightGBM.\n",
    "\n",
    "**Таким образом, учитывая все критерии, наилучшим выбором может быть RandomForest. Он предлагает хорошее качество предсказания с более низким временем обучения и предсказания по сравнению с LightGBM.**"
   ]
  },
  {
   "cell_type": "markdown",
   "metadata": {},
   "source": [
    "**Проверим лучшую модель на тестовом наборе:**"
   ]
  },
  {
   "cell_type": "code",
   "execution_count": 29,
   "metadata": {},
   "outputs": [
    {
     "name": "stdout",
     "output_type": "stream",
     "text": [
      "Время обучения: 15.10 секунд\n",
      "Время предсказания на тестовой выборке: 0.24 секунд\n",
      "RMSE на тестовой выборке: 2038.32\n"
     ]
    }
   ],
   "source": [
    "# Создание модели случайного леса с лучшими гиперпараметрами\n",
    "best_rf_model = RandomForestRegressor(random_state=12345, max_depth=10, min_samples_leaf=1, \n",
    "                                 min_samples_split=2, n_estimators=50)\n",
    "\n",
    "# Обучение модели\n",
    "start_time = time.time()\n",
    "best_rf_model.fit(features_train_encoded, target_train)\n",
    "end_time = time.time()\n",
    "\n",
    "# Время обучения\n",
    "best_rf_training_time = end_time - start_time\n",
    "print(\"Время обучения: {:.2f} секунд\".format(best_rf_training_time))\n",
    "\n",
    "# Предсказание на тестовой выборке\n",
    "start_time = time.time()\n",
    "test_predictions = best_rf_model.predict(features_test_encoded)\n",
    "end_time = time.time()\n",
    "\n",
    "# Время предсказания на тестовой выборке\n",
    "best_rf_prediction_time = end_time - start_time\n",
    "print(\"Время предсказания на тестовой выборке: {:.2f} секунд\".format(best_rf_prediction_time))\n",
    "\n",
    "# Оценка качества модели на тренировочной выборке с помощью RMSE\n",
    "best_rf_test_rmse = mean_squared_error(target_test, test_predictions, squared=False)\n",
    "print(\"RMSE на тестовой выборке: {:.2f}\".format(best_rf_test_rmse))"
   ]
  },
  {
   "cell_type": "markdown",
   "metadata": {},
   "source": [
    "**Проверим лучшую модель на адекватность, сравнив качество её предсказаний с качеством модели, которая предсказывала бы константу:**"
   ]
  },
  {
   "cell_type": "code",
   "execution_count": 30,
   "metadata": {},
   "outputs": [
    {
     "name": "stdout",
     "output_type": "stream",
     "text": [
      "RMSE DummyRegressor на тестовой выборке: 4615.18\n"
     ]
    }
   ],
   "source": [
    "# Создание DummyRegressor, который предсказывает среднее значение целевой переменной\n",
    "dummy_model = DummyRegressor(strategy='mean')\n",
    "\n",
    "# Обучение DummyRegressor\n",
    "dummy_model.fit(features_train_encoded, target_train)\n",
    "\n",
    "# Предсказание среднего значения на тестовой выборке\n",
    "dummy_predictions = dummy_model.predict(features_test_encoded)\n",
    "\n",
    "# Оценка качества DummyRegressor на тестовой выборке с помощью RMSE\n",
    "dummy_rmse = mean_squared_error(target_test, dummy_predictions, squared=False)\n",
    "print(\"RMSE DummyRegressor на тестовой выборке: {:.2f}\".format(dummy_rmse))"
   ]
  },
  {
   "cell_type": "markdown",
   "metadata": {},
   "source": [
    "RMSE нашей модели значительно ниже, чем RMSE DummyRegressor, то это говорит о том, что наша модель действительно обучилась и предсказывает данные лучше, чем просто предсказание константного значения."
   ]
  },
  {
   "cell_type": "markdown",
   "metadata": {},
   "source": [
    "### Вывод:"
   ]
  },
  {
   "cell_type": "markdown",
   "metadata": {},
   "source": [
    "Критерии, которые были важны заказчику:\n",
    "- качество предсказания;\n",
    "- время обучения модели;\n",
    "- время предсказания модели.\n",
    "\n",
    "Обосновали по всем критериям выбор модели и лидером стала модель RandomForest, поэтому для заказчика рекомендуем использовать её."
   ]
  },
  {
   "cell_type": "markdown",
   "metadata": {},
   "source": [
    "## Итог работы"
   ]
  },
  {
   "cell_type": "markdown",
   "metadata": {},
   "source": [
    "- Изучили данные. Обработали пропущенные значения и аномалии в столбцах. Удалили неинформативные признаки.\n",
    "- Подготовили выборки для обучения моделей.\n",
    "- Обучите разные модели, одна из которых — LightGBM, вторая - RandomForest. Для каждой модели подобрали лучшие гиперпараметры.\n",
    "- Проанализировали время обучения, время предсказания и качество моделей.\n",
    "- Опираясь на критерии заказчика, выбрали лучшую модель."
   ]
  }
 ],
 "metadata": {
  "ExecuteTimeLog": [
   {
    "duration": 1058,
    "start_time": "2024-03-13T13:45:03.410Z"
   },
   {
    "duration": 1131,
    "start_time": "2024-03-13T13:47:32.675Z"
   },
   {
    "duration": 148,
    "start_time": "2024-03-13T13:47:42.813Z"
   },
   {
    "duration": 19,
    "start_time": "2024-03-13T13:48:08.412Z"
   },
   {
    "duration": 95,
    "start_time": "2024-03-13T13:49:01.305Z"
   },
   {
    "duration": 423,
    "start_time": "2024-03-13T13:51:48.386Z"
   },
   {
    "duration": 115,
    "start_time": "2024-03-13T13:53:35.730Z"
   },
   {
    "duration": 92036,
    "start_time": "2024-03-13T13:53:54.580Z"
   },
   {
    "duration": 59,
    "start_time": "2024-03-13T13:58:11.610Z"
   },
   {
    "duration": 14,
    "start_time": "2024-03-13T13:58:28.161Z"
   },
   {
    "duration": 1499,
    "start_time": "2024-03-13T13:58:59.058Z"
   },
   {
    "duration": 1145,
    "start_time": "2024-03-13T13:59:00.559Z"
   },
   {
    "duration": 17,
    "start_time": "2024-03-13T13:59:01.706Z"
   },
   {
    "duration": 271,
    "start_time": "2024-03-13T13:59:01.724Z"
   },
   {
    "duration": 103,
    "start_time": "2024-03-13T13:59:01.997Z"
   },
   {
    "duration": 67,
    "start_time": "2024-03-13T14:07:36.966Z"
   },
   {
    "duration": 1439,
    "start_time": "2024-03-13T14:07:46.058Z"
   },
   {
    "duration": 1124,
    "start_time": "2024-03-13T14:07:47.499Z"
   },
   {
    "duration": 17,
    "start_time": "2024-03-13T14:07:48.625Z"
   },
   {
    "duration": 186,
    "start_time": "2024-03-13T14:07:48.643Z"
   },
   {
    "duration": 100,
    "start_time": "2024-03-13T14:07:48.831Z"
   },
   {
    "duration": 5,
    "start_time": "2024-03-13T14:07:48.933Z"
   },
   {
    "duration": 36,
    "start_time": "2024-03-13T14:12:13.147Z"
   },
   {
    "duration": 102,
    "start_time": "2024-03-13T14:13:04.593Z"
   },
   {
    "duration": 194,
    "start_time": "2024-03-13T14:18:19.615Z"
   },
   {
    "duration": 298,
    "start_time": "2024-03-13T14:18:43.407Z"
   },
   {
    "duration": 187,
    "start_time": "2024-03-13T14:18:46.676Z"
   },
   {
    "duration": 193,
    "start_time": "2024-03-13T14:20:50.189Z"
   },
   {
    "duration": 23,
    "start_time": "2024-03-13T14:27:08.253Z"
   },
   {
    "duration": 22,
    "start_time": "2024-03-13T14:27:18.807Z"
   },
   {
    "duration": 27,
    "start_time": "2024-03-13T14:27:27.267Z"
   },
   {
    "duration": 27,
    "start_time": "2024-03-13T14:28:15.244Z"
   },
   {
    "duration": 22,
    "start_time": "2024-03-13T14:28:28.302Z"
   },
   {
    "duration": 94,
    "start_time": "2024-03-13T14:37:56.277Z"
   },
   {
    "duration": 178,
    "start_time": "2024-03-13T14:41:10.266Z"
   },
   {
    "duration": 204,
    "start_time": "2024-03-13T14:41:20.915Z"
   },
   {
    "duration": 205,
    "start_time": "2024-03-13T14:42:17.869Z"
   },
   {
    "duration": 1407,
    "start_time": "2024-03-13T14:43:06.319Z"
   },
   {
    "duration": 954,
    "start_time": "2024-03-13T14:43:07.728Z"
   },
   {
    "duration": 22,
    "start_time": "2024-03-13T14:43:08.684Z"
   },
   {
    "duration": 174,
    "start_time": "2024-03-13T14:43:08.708Z"
   },
   {
    "duration": 151,
    "start_time": "2024-03-13T14:43:08.885Z"
   },
   {
    "duration": 22,
    "start_time": "2024-03-13T14:43:09.038Z"
   },
   {
    "duration": 241,
    "start_time": "2024-03-13T14:43:09.061Z"
   },
   {
    "duration": 207,
    "start_time": "2024-03-13T14:43:09.304Z"
   },
   {
    "duration": 97,
    "start_time": "2024-03-13T14:43:09.512Z"
   },
   {
    "duration": 397,
    "start_time": "2024-03-13T14:45:20.803Z"
   },
   {
    "duration": 290,
    "start_time": "2024-03-13T14:46:37.335Z"
   },
   {
    "duration": 747,
    "start_time": "2024-03-13T14:46:53.755Z"
   },
   {
    "duration": 733,
    "start_time": "2024-03-13T14:47:16.686Z"
   },
   {
    "duration": 656,
    "start_time": "2024-03-13T14:47:24.301Z"
   },
   {
    "duration": 672,
    "start_time": "2024-03-13T14:47:43.489Z"
   },
   {
    "duration": 664,
    "start_time": "2024-03-13T14:48:30.750Z"
   },
   {
    "duration": 3,
    "start_time": "2024-03-13T14:49:04.074Z"
   },
   {
    "duration": 213,
    "start_time": "2024-03-13T14:49:55.460Z"
   },
   {
    "duration": 93,
    "start_time": "2024-03-13T14:50:22.124Z"
   },
   {
    "duration": 587,
    "start_time": "2024-03-13T14:51:34.149Z"
   },
   {
    "duration": 823,
    "start_time": "2024-03-13T14:52:00.136Z"
   },
   {
    "duration": 1373,
    "start_time": "2024-03-13T14:52:07.136Z"
   },
   {
    "duration": 864,
    "start_time": "2024-03-13T14:52:08.510Z"
   },
   {
    "duration": 18,
    "start_time": "2024-03-13T14:52:09.376Z"
   },
   {
    "duration": 162,
    "start_time": "2024-03-13T14:52:09.396Z"
   },
   {
    "duration": 96,
    "start_time": "2024-03-13T14:52:09.560Z"
   },
   {
    "duration": 31,
    "start_time": "2024-03-13T14:52:09.658Z"
   },
   {
    "duration": 206,
    "start_time": "2024-03-13T14:52:09.690Z"
   },
   {
    "duration": 100,
    "start_time": "2024-03-13T14:52:09.898Z"
   },
   {
    "duration": 692,
    "start_time": "2024-03-13T14:52:10.000Z"
   },
   {
    "duration": 4,
    "start_time": "2024-03-13T14:52:10.693Z"
   },
   {
    "duration": 225,
    "start_time": "2024-03-13T14:52:10.698Z"
   },
   {
    "duration": 1454,
    "start_time": "2024-03-13T14:52:34.612Z"
   },
   {
    "duration": 937,
    "start_time": "2024-03-13T14:52:36.068Z"
   },
   {
    "duration": 16,
    "start_time": "2024-03-13T14:52:37.007Z"
   },
   {
    "duration": 171,
    "start_time": "2024-03-13T14:52:37.024Z"
   },
   {
    "duration": 102,
    "start_time": "2024-03-13T14:52:37.196Z"
   },
   {
    "duration": 25,
    "start_time": "2024-03-13T14:52:37.300Z"
   },
   {
    "duration": 222,
    "start_time": "2024-03-13T14:52:37.327Z"
   },
   {
    "duration": 103,
    "start_time": "2024-03-13T14:52:37.551Z"
   },
   {
    "duration": 743,
    "start_time": "2024-03-13T14:52:37.656Z"
   },
   {
    "duration": 3,
    "start_time": "2024-03-13T14:52:38.403Z"
   },
   {
    "duration": 256,
    "start_time": "2024-03-13T14:52:38.408Z"
   },
   {
    "duration": 110,
    "start_time": "2024-03-13T14:58:16.169Z"
   },
   {
    "duration": 2888,
    "start_time": "2024-03-13T14:58:24.656Z"
   },
   {
    "duration": 12142,
    "start_time": "2024-03-13T14:59:47.409Z"
   },
   {
    "duration": 8935,
    "start_time": "2024-03-13T15:01:30.647Z"
   },
   {
    "duration": 8862,
    "start_time": "2024-03-13T15:07:08.860Z"
   },
   {
    "duration": 8897,
    "start_time": "2024-03-13T15:07:45.234Z"
   },
   {
    "duration": 6,
    "start_time": "2024-03-13T15:29:29.279Z"
   },
   {
    "duration": 11,
    "start_time": "2024-03-13T15:29:40.300Z"
   },
   {
    "duration": 8,
    "start_time": "2024-03-13T15:29:57.150Z"
   },
   {
    "duration": 12,
    "start_time": "2024-03-13T15:33:19.506Z"
   },
   {
    "duration": 11,
    "start_time": "2024-03-13T15:33:25.581Z"
   },
   {
    "duration": 44,
    "start_time": "2024-03-13T15:33:53.466Z"
   },
   {
    "duration": 13,
    "start_time": "2024-03-13T15:34:03.629Z"
   },
   {
    "duration": 93,
    "start_time": "2024-03-13T15:34:12.902Z"
   },
   {
    "duration": 10,
    "start_time": "2024-03-13T15:34:30.523Z"
   },
   {
    "duration": 15,
    "start_time": "2024-03-13T15:34:34.622Z"
   },
   {
    "duration": 35,
    "start_time": "2024-03-13T15:35:11.659Z"
   },
   {
    "duration": 10,
    "start_time": "2024-03-13T15:36:00.367Z"
   },
   {
    "duration": 32,
    "start_time": "2024-03-13T15:36:07.650Z"
   },
   {
    "duration": 17,
    "start_time": "2024-03-13T15:36:09.910Z"
   },
   {
    "duration": 45,
    "start_time": "2024-03-13T15:42:41.372Z"
   },
   {
    "duration": 18,
    "start_time": "2024-03-13T15:42:54.511Z"
   },
   {
    "duration": 5,
    "start_time": "2024-03-13T15:46:19.295Z"
   },
   {
    "duration": 5,
    "start_time": "2024-03-13T15:46:27.135Z"
   },
   {
    "duration": 20,
    "start_time": "2024-03-13T15:47:07.631Z"
   },
   {
    "duration": 6,
    "start_time": "2024-03-13T15:49:39.499Z"
   },
   {
    "duration": 19,
    "start_time": "2024-03-13T15:49:52.709Z"
   },
   {
    "duration": 9056,
    "start_time": "2024-03-13T15:52:45.367Z"
   },
   {
    "duration": 9336,
    "start_time": "2024-03-13T15:53:28.408Z"
   },
   {
    "duration": 10823,
    "start_time": "2024-03-13T15:54:13.302Z"
   },
   {
    "duration": 10145,
    "start_time": "2024-03-13T15:55:27.089Z"
   },
   {
    "duration": 9531,
    "start_time": "2024-03-13T15:55:40.282Z"
   },
   {
    "duration": 15,
    "start_time": "2024-03-13T16:06:28.874Z"
   },
   {
    "duration": 15,
    "start_time": "2024-03-13T16:06:38.351Z"
   },
   {
    "duration": 58,
    "start_time": "2024-03-13T16:06:47.015Z"
   },
   {
    "duration": 4,
    "start_time": "2024-03-13T16:07:07.815Z"
   },
   {
    "duration": 28,
    "start_time": "2024-03-13T16:16:16.862Z"
   },
   {
    "duration": 90,
    "start_time": "2024-03-13T16:19:48.195Z"
   },
   {
    "duration": 61,
    "start_time": "2024-03-13T16:21:33.245Z"
   },
   {
    "duration": 66,
    "start_time": "2024-03-13T16:23:17.269Z"
   },
   {
    "duration": 4,
    "start_time": "2024-03-13T16:25:05.429Z"
   },
   {
    "duration": 1473,
    "start_time": "2024-03-13T16:28:12.092Z"
   },
   {
    "duration": 938,
    "start_time": "2024-03-13T16:28:13.567Z"
   },
   {
    "duration": 17,
    "start_time": "2024-03-13T16:28:14.506Z"
   },
   {
    "duration": 179,
    "start_time": "2024-03-13T16:28:14.524Z"
   },
   {
    "duration": 110,
    "start_time": "2024-03-13T16:28:14.705Z"
   },
   {
    "duration": 33,
    "start_time": "2024-03-13T16:28:14.817Z"
   },
   {
    "duration": 223,
    "start_time": "2024-03-13T16:28:14.852Z"
   },
   {
    "duration": 106,
    "start_time": "2024-03-13T16:28:15.092Z"
   },
   {
    "duration": 712,
    "start_time": "2024-03-13T16:28:15.200Z"
   },
   {
    "duration": 3,
    "start_time": "2024-03-13T16:28:15.914Z"
   },
   {
    "duration": 210,
    "start_time": "2024-03-13T16:28:15.919Z"
   },
   {
    "duration": 8807,
    "start_time": "2024-03-13T16:28:16.130Z"
   },
   {
    "duration": 58,
    "start_time": "2024-03-13T16:28:24.938Z"
   },
   {
    "duration": 35,
    "start_time": "2024-03-13T16:28:24.998Z"
   },
   {
    "duration": 6,
    "start_time": "2024-03-13T16:28:25.034Z"
   },
   {
    "duration": 4268,
    "start_time": "2024-03-13T16:28:25.041Z"
   },
   {
    "duration": 0,
    "start_time": "2024-03-13T16:28:29.311Z"
   },
   {
    "duration": 0,
    "start_time": "2024-03-13T16:28:29.313Z"
   },
   {
    "duration": 0,
    "start_time": "2024-03-13T16:28:29.314Z"
   },
   {
    "duration": 0,
    "start_time": "2024-03-13T16:28:29.315Z"
   },
   {
    "duration": 1522,
    "start_time": "2024-03-13T16:29:51.158Z"
   },
   {
    "duration": 920,
    "start_time": "2024-03-13T16:29:52.682Z"
   },
   {
    "duration": 17,
    "start_time": "2024-03-13T16:29:53.604Z"
   },
   {
    "duration": 164,
    "start_time": "2024-03-13T16:29:53.622Z"
   },
   {
    "duration": 101,
    "start_time": "2024-03-13T16:29:53.788Z"
   },
   {
    "duration": 25,
    "start_time": "2024-03-13T16:29:53.893Z"
   },
   {
    "duration": 218,
    "start_time": "2024-03-13T16:29:53.919Z"
   },
   {
    "duration": 105,
    "start_time": "2024-03-13T16:29:54.139Z"
   },
   {
    "duration": 765,
    "start_time": "2024-03-13T16:29:54.246Z"
   },
   {
    "duration": 3,
    "start_time": "2024-03-13T16:29:55.012Z"
   },
   {
    "duration": 238,
    "start_time": "2024-03-13T16:29:55.016Z"
   },
   {
    "duration": 8886,
    "start_time": "2024-03-13T16:29:55.255Z"
   },
   {
    "duration": 53,
    "start_time": "2024-03-13T16:30:04.143Z"
   },
   {
    "duration": 41,
    "start_time": "2024-03-13T16:30:04.198Z"
   },
   {
    "duration": 6,
    "start_time": "2024-03-13T16:30:04.241Z"
   },
   {
    "duration": 9966,
    "start_time": "2024-03-13T16:30:04.248Z"
   },
   {
    "duration": 14,
    "start_time": "2024-03-13T16:30:14.217Z"
   },
   {
    "duration": 85,
    "start_time": "2024-03-13T16:30:14.233Z"
   },
   {
    "duration": 5,
    "start_time": "2024-03-13T16:30:14.320Z"
   },
   {
    "duration": 91867,
    "start_time": "2024-03-13T16:30:14.326Z"
   },
   {
    "duration": 4,
    "start_time": "2024-03-13T16:33:55.603Z"
   },
   {
    "duration": 1543601,
    "start_time": "2024-03-13T16:36:49.291Z"
   },
   {
    "duration": 75274,
    "start_time": "2024-03-13T17:10:55.185Z"
   },
   {
    "duration": 520,
    "start_time": "2024-03-13T17:20:28.202Z"
   },
   {
    "duration": 128,
    "start_time": "2024-03-13T17:20:49.428Z"
   },
   {
    "duration": 106487,
    "start_time": "2024-03-13T17:20:57.112Z"
   },
   {
    "duration": 145902,
    "start_time": "2024-03-13T17:23:53.101Z"
   },
   {
    "duration": 22,
    "start_time": "2024-03-13T17:36:11.089Z"
   },
   {
    "duration": 5,
    "start_time": "2024-03-13T17:36:31.402Z"
   },
   {
    "duration": 261638,
    "start_time": "2024-03-13T17:36:36.945Z"
   },
   {
    "duration": 769314,
    "start_time": "2024-03-13T17:41:44.590Z"
   },
   {
    "duration": 82405,
    "start_time": "2024-03-13T17:57:52.684Z"
   },
   {
    "duration": 8,
    "start_time": "2024-03-13T18:11:19.693Z"
   },
   {
    "duration": 11,
    "start_time": "2024-03-13T18:11:25.597Z"
   },
   {
    "duration": 12,
    "start_time": "2024-03-13T18:12:29.493Z"
   },
   {
    "duration": 12,
    "start_time": "2024-03-13T18:12:52.453Z"
   },
   {
    "duration": 1547,
    "start_time": "2024-03-14T19:02:22.853Z"
   },
   {
    "duration": 1063,
    "start_time": "2024-03-14T19:02:27.491Z"
   },
   {
    "duration": 16,
    "start_time": "2024-03-14T19:02:31.129Z"
   },
   {
    "duration": 148,
    "start_time": "2024-03-14T19:02:33.018Z"
   },
   {
    "duration": 84,
    "start_time": "2024-03-14T19:02:34.683Z"
   },
   {
    "duration": 25,
    "start_time": "2024-03-14T19:02:38.148Z"
   },
   {
    "duration": 682,
    "start_time": "2024-03-14T19:02:44.201Z"
   },
   {
    "duration": 8,
    "start_time": "2024-03-14T19:03:48.198Z"
   },
   {
    "duration": 25,
    "start_time": "2024-03-14T19:05:56.684Z"
   },
   {
    "duration": 206,
    "start_time": "2024-03-14T19:06:01.309Z"
   },
   {
    "duration": 79,
    "start_time": "2024-03-14T19:06:26.904Z"
   },
   {
    "duration": 551,
    "start_time": "2024-03-14T19:06:29.977Z"
   },
   {
    "duration": 3,
    "start_time": "2024-03-14T19:06:34.800Z"
   },
   {
    "duration": 164,
    "start_time": "2024-03-14T19:06:40.535Z"
   },
   {
    "duration": 6131,
    "start_time": "2024-03-14T19:06:45.640Z"
   },
   {
    "duration": 32,
    "start_time": "2024-03-14T19:08:55.021Z"
   },
   {
    "duration": 43,
    "start_time": "2024-03-14T19:10:04.918Z"
   },
   {
    "duration": 8696,
    "start_time": "2024-03-14T19:11:19.188Z"
   },
   {
    "duration": 19,
    "start_time": "2024-03-14T19:16:15.447Z"
   },
   {
    "duration": 14,
    "start_time": "2024-03-14T19:18:35.543Z"
   },
   {
    "duration": 8640,
    "start_time": "2024-03-14T19:18:41.460Z"
   },
   {
    "duration": 22,
    "start_time": "2024-03-14T19:21:08.005Z"
   },
   {
    "duration": 4322,
    "start_time": "2024-03-14T19:24:24.490Z"
   },
   {
    "duration": 4906,
    "start_time": "2024-03-14T19:26:03.775Z"
   },
   {
    "duration": 4916,
    "start_time": "2024-03-14T19:26:39.178Z"
   },
   {
    "duration": 4818,
    "start_time": "2024-03-14T19:26:57.122Z"
   },
   {
    "duration": 4773,
    "start_time": "2024-03-14T19:27:06.928Z"
   },
   {
    "duration": 4803,
    "start_time": "2024-03-14T19:27:30.736Z"
   },
   {
    "duration": 5098,
    "start_time": "2024-03-14T19:28:05.704Z"
   },
   {
    "duration": 4933,
    "start_time": "2024-03-14T19:30:11.531Z"
   },
   {
    "duration": 1239,
    "start_time": "2024-03-14T19:30:32.808Z"
   },
   {
    "duration": 13,
    "start_time": "2024-03-14T19:38:22.042Z"
   },
   {
    "duration": 62,
    "start_time": "2024-03-14T19:38:42.577Z"
   },
   {
    "duration": 28,
    "start_time": "2024-03-14T19:39:31.204Z"
   },
   {
    "duration": 6,
    "start_time": "2024-03-14T19:40:01.619Z"
   },
   {
    "duration": 107,
    "start_time": "2024-03-14T19:52:22.972Z"
   },
   {
    "duration": 4,
    "start_time": "2024-03-14T19:52:41.017Z"
   },
   {
    "duration": 257,
    "start_time": "2024-03-14T19:52:47.141Z"
   },
   {
    "duration": 248,
    "start_time": "2024-03-14T19:53:42.159Z"
   },
   {
    "duration": 46797,
    "start_time": "2024-03-14T19:55:07.693Z"
   },
   {
    "duration": 45482,
    "start_time": "2024-03-14T19:56:39.736Z"
   },
   {
    "duration": 782051,
    "start_time": "2024-03-14T19:59:24.002Z"
   },
   {
    "duration": 774858,
    "start_time": "2024-03-14T20:15:28.443Z"
   },
   {
    "duration": 38825,
    "start_time": "2024-03-14T20:29:33.029Z"
   },
   {
    "duration": 5720,
    "start_time": "2024-03-14T20:31:24.911Z"
   },
   {
    "duration": 5547,
    "start_time": "2024-03-14T20:32:16.289Z"
   },
   {
    "duration": 205875,
    "start_time": "2024-03-14T20:33:15.748Z"
   },
   {
    "duration": 13377,
    "start_time": "2024-03-14T20:37:34.164Z"
   },
   {
    "duration": 9,
    "start_time": "2024-03-14T20:40:00.495Z"
   },
   {
    "duration": 12440,
    "start_time": "2024-03-14T20:42:48.189Z"
   },
   {
    "duration": 11520,
    "start_time": "2024-03-14T20:43:24.421Z"
   },
   {
    "duration": 4,
    "start_time": "2024-03-14T20:46:42.802Z"
   },
   {
    "duration": 6,
    "start_time": "2024-03-14T20:48:38.881Z"
   },
   {
    "duration": 1381,
    "start_time": "2024-03-14T20:50:30.830Z"
   },
   {
    "duration": 842,
    "start_time": "2024-03-14T20:50:32.213Z"
   },
   {
    "duration": 15,
    "start_time": "2024-03-14T20:50:33.057Z"
   },
   {
    "duration": 145,
    "start_time": "2024-03-14T20:50:33.073Z"
   },
   {
    "duration": 98,
    "start_time": "2024-03-14T20:50:33.220Z"
   },
   {
    "duration": 25,
    "start_time": "2024-03-14T20:50:33.320Z"
   },
   {
    "duration": 13,
    "start_time": "2024-03-14T20:50:33.347Z"
   },
   {
    "duration": 23,
    "start_time": "2024-03-14T20:50:33.362Z"
   },
   {
    "duration": 190,
    "start_time": "2024-03-14T20:50:33.387Z"
   },
   {
    "duration": 99,
    "start_time": "2024-03-14T20:50:33.579Z"
   },
   {
    "duration": 587,
    "start_time": "2024-03-14T20:50:33.679Z"
   },
   {
    "duration": 3,
    "start_time": "2024-03-14T20:50:34.268Z"
   },
   {
    "duration": 179,
    "start_time": "2024-03-14T20:50:34.272Z"
   },
   {
    "duration": 6117,
    "start_time": "2024-03-14T20:50:34.454Z"
   },
   {
    "duration": 37,
    "start_time": "2024-03-14T20:50:40.573Z"
   },
   {
    "duration": 44,
    "start_time": "2024-03-14T20:50:40.617Z"
   },
   {
    "duration": 20,
    "start_time": "2024-03-14T20:50:40.662Z"
   },
   {
    "duration": 13,
    "start_time": "2024-03-14T20:50:40.684Z"
   },
   {
    "duration": 1156,
    "start_time": "2024-03-14T20:50:40.717Z"
   },
   {
    "duration": 12,
    "start_time": "2024-03-14T20:50:41.875Z"
   },
   {
    "duration": 103,
    "start_time": "2024-03-14T20:50:41.888Z"
   },
   {
    "duration": 37,
    "start_time": "2024-03-14T20:50:41.992Z"
   },
   {
    "duration": 8,
    "start_time": "2024-03-14T20:50:42.032Z"
   },
   {
    "duration": 45524,
    "start_time": "2024-03-14T20:50:42.042Z"
   },
   {
    "duration": 797587,
    "start_time": "2024-03-14T20:51:27.568Z"
   },
   {
    "duration": 41030,
    "start_time": "2024-03-14T21:04:45.157Z"
   },
   {
    "duration": 6536,
    "start_time": "2024-03-14T21:05:26.188Z"
   },
   {
    "duration": 212006,
    "start_time": "2024-03-14T21:05:32.726Z"
   },
   {
    "duration": 12197,
    "start_time": "2024-03-14T21:09:04.734Z"
   },
   {
    "duration": 10,
    "start_time": "2024-03-14T21:09:16.932Z"
   },
   {
    "duration": 12275,
    "start_time": "2024-03-14T21:09:16.944Z"
   },
   {
    "duration": 6,
    "start_time": "2024-03-14T21:09:29.220Z"
   },
   {
    "duration": 9,
    "start_time": "2024-03-14T21:09:39.738Z"
   },
   {
    "duration": 1760,
    "start_time": "2024-03-15T15:41:49.662Z"
   },
   {
    "duration": 1179,
    "start_time": "2024-03-15T15:41:52.910Z"
   },
   {
    "duration": 26,
    "start_time": "2024-03-15T15:41:54.947Z"
   },
   {
    "duration": 164,
    "start_time": "2024-03-15T15:41:55.466Z"
   },
   {
    "duration": 91,
    "start_time": "2024-03-15T15:41:56.978Z"
   },
   {
    "duration": 25,
    "start_time": "2024-03-15T15:41:59.631Z"
   },
   {
    "duration": 15,
    "start_time": "2024-03-15T15:42:03.374Z"
   },
   {
    "duration": 29,
    "start_time": "2024-03-15T15:42:04.945Z"
   },
   {
    "duration": 212,
    "start_time": "2024-03-15T15:42:06.688Z"
   },
   {
    "duration": 100,
    "start_time": "2024-03-15T15:42:11.102Z"
   },
   {
    "duration": 687,
    "start_time": "2024-03-15T15:42:15.632Z"
   },
   {
    "duration": 3,
    "start_time": "2024-03-15T15:42:18.420Z"
   },
   {
    "duration": 190,
    "start_time": "2024-03-15T15:42:19.798Z"
   },
   {
    "duration": 6637,
    "start_time": "2024-03-15T15:42:22.670Z"
   },
   {
    "duration": 48,
    "start_time": "2024-03-15T15:45:07.025Z"
   },
   {
    "duration": 63,
    "start_time": "2024-03-15T15:45:19.746Z"
   },
   {
    "duration": 19,
    "start_time": "2024-03-15T15:45:24.010Z"
   },
   {
    "duration": 16,
    "start_time": "2024-03-15T15:45:25.913Z"
   },
   {
    "duration": 1308,
    "start_time": "2024-03-15T15:45:27.692Z"
   },
   {
    "duration": 122,
    "start_time": "2024-03-15T15:46:43.553Z"
   },
   {
    "duration": 22,
    "start_time": "2024-03-15T15:46:48.159Z"
   },
   {
    "duration": 70,
    "start_time": "2024-03-15T15:46:50.366Z"
   },
   {
    "duration": 4,
    "start_time": "2024-03-15T15:47:24.230Z"
   },
   {
    "duration": 69304,
    "start_time": "2024-03-15T16:01:44.161Z"
   },
   {
    "duration": 11539,
    "start_time": "2024-03-15T16:12:32.342Z"
   },
   {
    "duration": 1087059,
    "start_time": "2024-03-15T16:13:09.213Z"
   },
   {
    "duration": 52965,
    "start_time": "2024-03-15T16:31:41.679Z"
   },
   {
    "duration": 59316,
    "start_time": "2024-03-15T16:33:13.097Z"
   },
   {
    "duration": 59301,
    "start_time": "2024-03-15T16:35:28.113Z"
   },
   {
    "duration": 54591,
    "start_time": "2024-03-15T16:38:00.206Z"
   },
   {
    "duration": 1208586,
    "start_time": "2024-03-15T16:40:32.590Z"
   },
   {
    "duration": 16496,
    "start_time": "2024-03-15T17:04:51.803Z"
   },
   {
    "duration": 10,
    "start_time": "2024-03-15T17:05:22.674Z"
   },
   {
    "duration": 23452,
    "start_time": "2024-03-15T17:10:27.827Z"
   },
   {
    "duration": 5,
    "start_time": "2024-03-15T17:11:02.335Z"
   },
   {
    "duration": 1479,
    "start_time": "2024-03-15T17:12:16.555Z"
   },
   {
    "duration": 912,
    "start_time": "2024-03-15T17:12:18.036Z"
   },
   {
    "duration": 20,
    "start_time": "2024-03-15T17:12:18.950Z"
   },
   {
    "duration": 171,
    "start_time": "2024-03-15T17:12:18.972Z"
   },
   {
    "duration": 97,
    "start_time": "2024-03-15T17:12:19.144Z"
   },
   {
    "duration": 32,
    "start_time": "2024-03-15T17:12:19.243Z"
   },
   {
    "duration": 30,
    "start_time": "2024-03-15T17:12:19.277Z"
   },
   {
    "duration": 41,
    "start_time": "2024-03-15T17:12:19.309Z"
   },
   {
    "duration": 196,
    "start_time": "2024-03-15T17:12:19.352Z"
   },
   {
    "duration": 90,
    "start_time": "2024-03-15T17:12:19.551Z"
   },
   {
    "duration": 606,
    "start_time": "2024-03-15T17:12:19.642Z"
   },
   {
    "duration": 3,
    "start_time": "2024-03-15T17:12:20.250Z"
   },
   {
    "duration": 202,
    "start_time": "2024-03-15T17:12:20.266Z"
   },
   {
    "duration": 6393,
    "start_time": "2024-03-15T17:12:20.470Z"
   },
   {
    "duration": 44,
    "start_time": "2024-03-15T17:12:26.865Z"
   },
   {
    "duration": 55,
    "start_time": "2024-03-15T17:12:26.911Z"
   },
   {
    "duration": 20,
    "start_time": "2024-03-15T17:12:26.967Z"
   },
   {
    "duration": 17,
    "start_time": "2024-03-15T17:12:26.989Z"
   },
   {
    "duration": 1179,
    "start_time": "2024-03-15T17:12:27.007Z"
   },
   {
    "duration": 15,
    "start_time": "2024-03-15T17:12:28.188Z"
   },
   {
    "duration": 90,
    "start_time": "2024-03-15T17:12:28.205Z"
   },
   {
    "duration": 4,
    "start_time": "2024-03-15T17:12:28.296Z"
   },
   {
    "duration": 70108,
    "start_time": "2024-03-15T17:12:28.302Z"
   },
   {
    "duration": 1556,
    "start_time": "2024-03-15T17:22:14.654Z"
   },
   {
    "duration": 941,
    "start_time": "2024-03-15T17:22:16.211Z"
   },
   {
    "duration": 31,
    "start_time": "2024-03-15T17:22:17.153Z"
   },
   {
    "duration": 173,
    "start_time": "2024-03-15T17:22:17.186Z"
   },
   {
    "duration": 98,
    "start_time": "2024-03-15T17:22:17.361Z"
   },
   {
    "duration": 35,
    "start_time": "2024-03-15T17:22:17.470Z"
   },
   {
    "duration": 16,
    "start_time": "2024-03-15T17:22:17.507Z"
   },
   {
    "duration": 25,
    "start_time": "2024-03-15T17:22:17.525Z"
   },
   {
    "duration": 211,
    "start_time": "2024-03-15T17:22:17.552Z"
   },
   {
    "duration": 89,
    "start_time": "2024-03-15T17:22:17.766Z"
   },
   {
    "duration": 653,
    "start_time": "2024-03-15T17:22:17.856Z"
   },
   {
    "duration": 2,
    "start_time": "2024-03-15T17:22:18.511Z"
   },
   {
    "duration": 203,
    "start_time": "2024-03-15T17:22:18.515Z"
   },
   {
    "duration": 6878,
    "start_time": "2024-03-15T17:22:18.720Z"
   },
   {
    "duration": 47,
    "start_time": "2024-03-15T17:22:25.599Z"
   },
   {
    "duration": 62,
    "start_time": "2024-03-15T17:22:25.647Z"
   },
   {
    "duration": 18,
    "start_time": "2024-03-15T17:22:25.711Z"
   },
   {
    "duration": 29,
    "start_time": "2024-03-15T17:22:25.732Z"
   },
   {
    "duration": 1541,
    "start_time": "2024-03-15T17:22:25.765Z"
   },
   {
    "duration": 14,
    "start_time": "2024-03-15T17:22:27.308Z"
   },
   {
    "duration": 90,
    "start_time": "2024-03-15T17:22:27.323Z"
   },
   {
    "duration": 4,
    "start_time": "2024-03-15T17:22:27.415Z"
   },
   {
    "duration": 75422,
    "start_time": "2024-03-15T17:22:27.421Z"
   },
   {
    "duration": 1145007,
    "start_time": "2024-03-15T17:23:42.845Z"
   },
   {
    "duration": 65667,
    "start_time": "2024-03-15T17:42:47.854Z"
   },
   {
    "duration": 515646,
    "start_time": "2024-03-15T17:43:53.523Z"
   },
   {
    "duration": 5855392,
    "start_time": "2024-03-15T17:52:29.176Z"
   },
   {
    "duration": 844420,
    "start_time": "2024-03-15T19:30:04.571Z"
   },
   {
    "duration": 10,
    "start_time": "2024-03-15T19:44:08.993Z"
   },
   {
    "duration": 591877,
    "start_time": "2024-03-15T19:44:09.005Z"
   },
   {
    "duration": 0,
    "start_time": "2024-03-15T19:54:00.884Z"
   },
   {
    "duration": 55059,
    "start_time": "2024-03-15T19:56:29.099Z"
   },
   {
    "duration": 54888,
    "start_time": "2024-03-15T19:58:51.103Z"
   },
   {
    "duration": 6,
    "start_time": "2024-03-15T20:00:02.084Z"
   },
   {
    "duration": 1594,
    "start_time": "2024-03-16T14:55:04.471Z"
   },
   {
    "duration": 1158,
    "start_time": "2024-03-16T14:55:09.154Z"
   },
   {
    "duration": 19,
    "start_time": "2024-03-16T14:55:12.544Z"
   },
   {
    "duration": 145,
    "start_time": "2024-03-16T14:55:14.684Z"
   },
   {
    "duration": 95,
    "start_time": "2024-03-16T14:55:16.492Z"
   },
   {
    "duration": 26,
    "start_time": "2024-03-16T14:55:19.168Z"
   },
   {
    "duration": 17,
    "start_time": "2024-03-16T14:55:22.379Z"
   },
   {
    "duration": 24,
    "start_time": "2024-03-16T14:55:23.810Z"
   },
   {
    "duration": 183,
    "start_time": "2024-03-16T14:55:25.260Z"
   },
   {
    "duration": 78,
    "start_time": "2024-03-16T14:55:28.069Z"
   },
   {
    "duration": 618,
    "start_time": "2024-03-16T14:55:29.895Z"
   },
   {
    "duration": 3,
    "start_time": "2024-03-16T14:55:32.956Z"
   },
   {
    "duration": 173,
    "start_time": "2024-03-16T14:55:34.567Z"
   },
   {
    "duration": 6322,
    "start_time": "2024-03-16T14:55:36.740Z"
   },
   {
    "duration": 60,
    "start_time": "2024-03-16T14:55:46.310Z"
   },
   {
    "duration": 43,
    "start_time": "2024-03-16T14:55:49.595Z"
   },
   {
    "duration": 20,
    "start_time": "2024-03-16T14:55:55.955Z"
   },
   {
    "duration": 17,
    "start_time": "2024-03-16T14:55:57.785Z"
   },
   {
    "duration": 1173,
    "start_time": "2024-03-16T14:56:00.204Z"
   },
   {
    "duration": 13,
    "start_time": "2024-03-16T14:56:07.979Z"
   },
   {
    "duration": 67,
    "start_time": "2024-03-16T14:56:15.749Z"
   },
   {
    "duration": 5,
    "start_time": "2024-03-16T14:56:19.132Z"
   },
   {
    "duration": 504,
    "start_time": "2024-03-16T15:04:44.652Z"
   },
   {
    "duration": 1038496,
    "start_time": "2024-03-16T15:12:09.496Z"
   },
   {
    "duration": 5,
    "start_time": "2024-03-16T15:30:21.737Z"
   },
   {
    "duration": 4,
    "start_time": "2024-03-16T15:30:30.384Z"
   },
   {
    "duration": 689247,
    "start_time": "2024-03-16T15:30:40.985Z"
   },
   {
    "duration": 1228349,
    "start_time": "2024-03-16T15:44:35.863Z"
   },
   {
    "duration": 1125039,
    "start_time": "2024-03-16T16:13:01.409Z"
   },
   {
    "duration": 1251259,
    "start_time": "2024-03-16T16:35:23.221Z"
   },
   {
    "duration": 4,
    "start_time": "2024-03-16T16:57:38.511Z"
   },
   {
    "duration": 1179615,
    "start_time": "2024-03-16T16:57:51.763Z"
   },
   {
    "duration": 1080838,
    "start_time": "2024-03-16T17:37:21.742Z"
   },
   {
    "duration": 4,
    "start_time": "2024-03-16T18:00:00.554Z"
   },
   {
    "duration": 1164957,
    "start_time": "2024-03-16T18:00:10.327Z"
   },
   {
    "duration": 1360187,
    "start_time": "2024-03-16T18:21:00.412Z"
   },
   {
    "duration": 3107053,
    "start_time": "2024-03-16T18:44:54.422Z"
   },
   {
    "duration": 10,
    "start_time": "2024-03-16T19:37:52.510Z"
   },
   {
    "duration": 52764,
    "start_time": "2024-03-16T19:38:48.382Z"
   },
   {
    "duration": 6,
    "start_time": "2024-03-16T19:41:06.341Z"
   },
   {
    "duration": 1440,
    "start_time": "2024-03-16T19:41:39.394Z"
   },
   {
    "duration": 886,
    "start_time": "2024-03-16T19:41:40.836Z"
   },
   {
    "duration": 16,
    "start_time": "2024-03-16T19:41:41.723Z"
   },
   {
    "duration": 188,
    "start_time": "2024-03-16T19:41:41.741Z"
   },
   {
    "duration": 102,
    "start_time": "2024-03-16T19:41:41.931Z"
   },
   {
    "duration": 43,
    "start_time": "2024-03-16T19:41:42.035Z"
   },
   {
    "duration": 17,
    "start_time": "2024-03-16T19:41:42.080Z"
   },
   {
    "duration": 24,
    "start_time": "2024-03-16T19:41:42.099Z"
   },
   {
    "duration": 196,
    "start_time": "2024-03-16T19:41:42.125Z"
   },
   {
    "duration": 100,
    "start_time": "2024-03-16T19:41:42.324Z"
   },
   {
    "duration": 610,
    "start_time": "2024-03-16T19:41:42.427Z"
   },
   {
    "duration": 3,
    "start_time": "2024-03-16T19:41:43.039Z"
   },
   {
    "duration": 212,
    "start_time": "2024-03-16T19:41:43.043Z"
   },
   {
    "duration": 6537,
    "start_time": "2024-03-16T19:41:43.257Z"
   },
   {
    "duration": 48,
    "start_time": "2024-03-16T19:41:49.796Z"
   },
   {
    "duration": 55,
    "start_time": "2024-03-16T19:41:49.846Z"
   },
   {
    "duration": 18,
    "start_time": "2024-03-16T19:41:49.902Z"
   },
   {
    "duration": 12,
    "start_time": "2024-03-16T19:41:49.921Z"
   },
   {
    "duration": 1224,
    "start_time": "2024-03-16T19:41:49.935Z"
   },
   {
    "duration": 20,
    "start_time": "2024-03-16T19:41:51.161Z"
   },
   {
    "duration": 77,
    "start_time": "2024-03-16T19:41:51.182Z"
   },
   {
    "duration": 8,
    "start_time": "2024-03-16T19:41:51.260Z"
   },
   {
    "duration": 575,
    "start_time": "2024-03-16T19:41:51.269Z"
   },
   {
    "duration": 1230565,
    "start_time": "2024-03-16T19:41:51.845Z"
   },
   {
    "duration": 2210257,
    "start_time": "2024-03-16T20:02:22.412Z"
   },
   {
    "duration": 12,
    "start_time": "2024-03-16T20:39:12.671Z"
   },
   {
    "duration": 51592,
    "start_time": "2024-03-16T20:39:12.684Z"
   },
   {
    "duration": 6,
    "start_time": "2024-03-16T20:40:04.279Z"
   },
   {
    "duration": 1518,
    "start_time": "2024-03-17T17:49:42.574Z"
   },
   {
    "duration": 1132,
    "start_time": "2024-03-17T17:49:44.094Z"
   },
   {
    "duration": 16,
    "start_time": "2024-03-17T17:49:45.227Z"
   },
   {
    "duration": 184,
    "start_time": "2024-03-17T17:49:45.245Z"
   },
   {
    "duration": 97,
    "start_time": "2024-03-17T17:49:45.432Z"
   },
   {
    "duration": 24,
    "start_time": "2024-03-17T17:49:45.532Z"
   },
   {
    "duration": 92,
    "start_time": "2024-03-17T17:49:45.557Z"
   },
   {
    "duration": 30,
    "start_time": "2024-03-17T17:49:45.651Z"
   },
   {
    "duration": 206,
    "start_time": "2024-03-17T17:49:45.682Z"
   },
   {
    "duration": 89,
    "start_time": "2024-03-17T17:49:45.889Z"
   },
   {
    "duration": 617,
    "start_time": "2024-03-17T17:49:45.979Z"
   },
   {
    "duration": 4,
    "start_time": "2024-03-17T17:49:46.597Z"
   },
   {
    "duration": 211,
    "start_time": "2024-03-17T17:49:46.602Z"
   },
   {
    "duration": 6439,
    "start_time": "2024-03-17T17:49:46.816Z"
   },
   {
    "duration": 43,
    "start_time": "2024-03-17T17:49:53.257Z"
   },
   {
    "duration": 53,
    "start_time": "2024-03-17T17:49:53.301Z"
   },
   {
    "duration": 18,
    "start_time": "2024-03-17T17:49:53.356Z"
   },
   {
    "duration": 31,
    "start_time": "2024-03-17T17:49:53.376Z"
   },
   {
    "duration": 1239,
    "start_time": "2024-03-17T17:49:53.409Z"
   },
   {
    "duration": 13,
    "start_time": "2024-03-17T17:49:54.650Z"
   },
   {
    "duration": 71,
    "start_time": "2024-03-17T17:49:54.665Z"
   },
   {
    "duration": 4,
    "start_time": "2024-03-17T17:49:54.737Z"
   },
   {
    "duration": 487,
    "start_time": "2024-03-17T17:49:54.742Z"
   },
   {
    "duration": 177,
    "start_time": "2024-03-17T17:49:55.231Z"
   },
   {
    "duration": 0,
    "start_time": "2024-03-17T17:49:55.418Z"
   },
   {
    "duration": 0,
    "start_time": "2024-03-17T17:49:55.419Z"
   },
   {
    "duration": 0,
    "start_time": "2024-03-17T17:49:55.420Z"
   },
   {
    "duration": 0,
    "start_time": "2024-03-17T17:49:55.422Z"
   },
   {
    "duration": 1466,
    "start_time": "2024-03-17T18:01:07.115Z"
   },
   {
    "duration": 847,
    "start_time": "2024-03-17T18:01:08.583Z"
   },
   {
    "duration": 16,
    "start_time": "2024-03-17T18:01:09.431Z"
   },
   {
    "duration": 158,
    "start_time": "2024-03-17T18:01:09.449Z"
   },
   {
    "duration": 93,
    "start_time": "2024-03-17T18:01:09.609Z"
   },
   {
    "duration": 32,
    "start_time": "2024-03-17T18:01:09.704Z"
   },
   {
    "duration": 20,
    "start_time": "2024-03-17T18:01:09.737Z"
   },
   {
    "duration": 24,
    "start_time": "2024-03-17T18:01:09.758Z"
   },
   {
    "duration": 199,
    "start_time": "2024-03-17T18:01:09.783Z"
   },
   {
    "duration": 86,
    "start_time": "2024-03-17T18:01:09.984Z"
   },
   {
    "duration": 601,
    "start_time": "2024-03-17T18:01:10.071Z"
   },
   {
    "duration": 3,
    "start_time": "2024-03-17T18:01:10.674Z"
   },
   {
    "duration": 177,
    "start_time": "2024-03-17T18:01:10.679Z"
   },
   {
    "duration": 6867,
    "start_time": "2024-03-17T18:01:10.858Z"
   },
   {
    "duration": 39,
    "start_time": "2024-03-17T18:01:17.727Z"
   },
   {
    "duration": 61,
    "start_time": "2024-03-17T18:01:17.767Z"
   },
   {
    "duration": 19,
    "start_time": "2024-03-17T18:01:17.829Z"
   },
   {
    "duration": 14,
    "start_time": "2024-03-17T18:01:17.850Z"
   },
   {
    "duration": 1236,
    "start_time": "2024-03-17T18:01:17.866Z"
   },
   {
    "duration": 22,
    "start_time": "2024-03-17T18:01:19.104Z"
   },
   {
    "duration": 90,
    "start_time": "2024-03-17T18:01:19.128Z"
   },
   {
    "duration": 4,
    "start_time": "2024-03-17T18:01:19.220Z"
   },
   {
    "duration": 561,
    "start_time": "2024-03-17T18:01:19.226Z"
   },
   {
    "duration": 1023439,
    "start_time": "2024-03-17T18:01:19.789Z"
   },
   {
    "duration": 4605331,
    "start_time": "2024-03-17T18:18:23.231Z"
   },
   {
    "duration": 59,
    "start_time": "2024-03-17T19:35:08.564Z"
   },
   {
    "duration": 51553,
    "start_time": "2024-03-17T19:35:08.628Z"
   },
   {
    "duration": 16,
    "start_time": "2024-03-17T19:36:00.185Z"
   },
   {
    "duration": 15376,
    "start_time": "2024-03-17T19:37:48.855Z"
   },
   {
    "duration": 6,
    "start_time": "2024-03-17T19:40:33.640Z"
   }
  ],
  "kernelspec": {
   "display_name": "Python 3 (ipykernel)",
   "language": "python",
   "name": "python3"
  },
  "language_info": {
   "codemirror_mode": {
    "name": "ipython",
    "version": 3
   },
   "file_extension": ".py",
   "mimetype": "text/x-python",
   "name": "python",
   "nbconvert_exporter": "python",
   "pygments_lexer": "ipython3",
   "version": "3.10.9"
  },
  "toc": {
   "base_numbering": 1,
   "nav_menu": {},
   "number_sections": true,
   "sideBar": true,
   "skip_h1_title": true,
   "title_cell": "Table of Contents",
   "title_sidebar": "Contents",
   "toc_cell": false,
   "toc_position": {},
   "toc_section_display": true,
   "toc_window_display": false
  }
 },
 "nbformat": 4,
 "nbformat_minor": 2
}
